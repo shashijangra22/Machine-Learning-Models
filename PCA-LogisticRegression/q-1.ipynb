{
 "cells": [
  {
   "cell_type": "markdown",
   "metadata": {},
   "source": [
    "## Part 1: PCA Algorithm"
   ]
  },
  {
   "cell_type": "code",
   "execution_count": 38,
   "metadata": {},
   "outputs": [],
   "source": [
    "import numpy as np\n",
    "import pandas as pd\n",
    "from numpy import linalg as LA"
   ]
  },
  {
   "cell_type": "code",
   "execution_count": 39,
   "metadata": {},
   "outputs": [],
   "source": [
    "dataSet=pd.read_csv(\"./input_data/intrusionDetection.csv\")"
   ]
  },
  {
   "cell_type": "code",
   "execution_count": 40,
   "metadata": {},
   "outputs": [
    {
     "name": "stdout",
     "output_type": "stream",
     "text": [
      "Dimensions before PCA:  (24998, 29)\n"
     ]
    }
   ],
   "source": [
    "label=dataSet['xAttack']\n",
    "dataSet=dataSet.drop(['xAttack'],axis=1)\n",
    "print(\"Dimensions before PCA: \",dataSet.shape)"
   ]
  },
  {
   "cell_type": "code",
   "execution_count": 41,
   "metadata": {},
   "outputs": [],
   "source": [
    "mean=np.mean(dataSet)\n",
    "SD=np.std(dataSet)"
   ]
  },
  {
   "cell_type": "code",
   "execution_count": 42,
   "metadata": {},
   "outputs": [],
   "source": [
    "normData=(dataSet-mean)/SD"
   ]
  },
  {
   "cell_type": "code",
   "execution_count": 43,
   "metadata": {},
   "outputs": [],
   "source": [
    "Covariance=np.cov(normData.T)"
   ]
  },
  {
   "cell_type": "code",
   "execution_count": 44,
   "metadata": {},
   "outputs": [],
   "source": [
    "eigValues,eigVectors=LA.eig(Covariance)"
   ]
  },
  {
   "cell_type": "code",
   "execution_count": 45,
   "metadata": {},
   "outputs": [],
   "source": [
    "valToVect=dict(zip(eigValues,eigVectors))"
   ]
  },
  {
   "cell_type": "code",
   "execution_count": 46,
   "metadata": {},
   "outputs": [],
   "source": [
    "sortedEigValues=sorted(eigValues,reverse=True)"
   ]
  },
  {
   "cell_type": "code",
   "execution_count": 47,
   "metadata": {},
   "outputs": [],
   "source": [
    "tol=0\n",
    "PCAList=[]\n",
    "for item in sortedEigValues:\n",
    "    tol+=(item/sum(sortedEigValues))\n",
    "    PCAList.append(item)\n",
    "    if tol>=0.9:\n",
    "        break"
   ]
  },
  {
   "cell_type": "code",
   "execution_count": 48,
   "metadata": {},
   "outputs": [
    {
     "name": "stdout",
     "output_type": "stream",
     "text": [
      "Dimensions after PCA:  (24998, 14)\n"
     ]
    }
   ],
   "source": [
    "ans=np.dot(normData,np.asarray([valToVect[item] for item in PCAList]).T)\n",
    "print(\"Dimensions after PCA: \",ans.shape)"
   ]
  },
  {
   "cell_type": "markdown",
   "metadata": {},
   "source": [
    "## Part2: K-Means Clustering"
   ]
  },
  {
   "cell_type": "code",
   "execution_count": 76,
   "metadata": {},
   "outputs": [],
   "source": [
    "from copy import deepcopy\n",
    "clustersCount=5\n",
    "rows=len(ans)\n",
    "cols=len(ans[0])"
   ]
  },
  {
   "cell_type": "code",
   "execution_count": 77,
   "metadata": {},
   "outputs": [],
   "source": [
    "means=np.mean(ans,axis=0)\n",
    "stds=np.std(ans,axis=0)"
   ]
  },
  {
   "cell_type": "code",
   "execution_count": 78,
   "metadata": {},
   "outputs": [],
   "source": [
    "newCenters=np.random.randn(clustersCount,cols)*stds+means\n",
    "oldCenters=np.zeros(newCenters.shape)\n",
    "\n",
    "distances=np.zeros((rows,clustersCount))\n",
    "\n",
    "clusters=np.zeros(rows)\n",
    "\n",
    "margin=LA.norm(newCenters-oldCenters)\n",
    "\n",
    "while margin!=0:\n",
    "    for i in range(clustersCount):\n",
    "        distances[:,i]=LA.norm(ans-newCenters[i],axis=1)\n",
    "    clusters=np.argmin(distances,axis=1)\n",
    "    oldCenters=deepcopy(newCenters)\n",
    "    for i in range(clustersCount):\n",
    "        newCenters[i]=np.mean(ans[clusters==i],axis=0)\n",
    "    margin=LA.norm(newCenters-oldCenters)"
   ]
  },
  {
   "cell_type": "code",
   "execution_count": 83,
   "metadata": {},
   "outputs": [],
   "source": [
    "uniqueLabel=np.unique(label).tolist()\n",
    "assignedLabel=[uniqueLabel.index(x) for x in label.tolist()]"
   ]
  },
  {
   "cell_type": "code",
   "execution_count": 95,
   "metadata": {},
   "outputs": [
    {
     "name": "stdout",
     "output_type": "stream",
     "text": [
      "Contingency Matrix is: \n"
     ]
    },
    {
     "data": {
      "text/plain": [
       "array([[ 133, 5709,  852,  120,    7],\n",
       "       [ 439,  599,    0,    0,    0],\n",
       "       [6788,   52,   92,    1,    0],\n",
       "       [ 390, 6826,  387,   14,    3],\n",
       "       [1364,  178,  982,   62,    0]])"
      ]
     },
     "execution_count": 95,
     "metadata": {},
     "output_type": "execute_result"
    }
   ],
   "source": [
    "from sklearn.metrics.cluster import contingency_matrix\n",
    "CMatrix=contingency_matrix(clusters,assignedLabel)\n",
    "print(\"Contingency Matrix is: \")\n",
    "CMatrix"
   ]
  },
  {
   "cell_type": "code",
   "execution_count": 96,
   "metadata": {},
   "outputs": [
    {
     "name": "stdout",
     "output_type": "stream",
     "text": [
      "Purity of Cluster:  0  : 83.69740507257\n",
      "Purity of Cluster:  1  : 57.70712909441233\n",
      "Purity of Cluster:  2  : 97.90855329583152\n",
      "Purity of Cluster:  3  : 89.58005249343832\n",
      "Purity of Cluster:  4  : 52.74555297757154\n",
      "K-means purity:  0.851508120649652\n"
     ]
    }
   ],
   "source": [
    "for idx,val in enumerate(CMatrix):\n",
    "    print(\"Purity of Cluster: \",idx,\" :\",max(val)*100/sum(val))\n",
    "KMeansPurity=sum([max(item) for item in CMatrix])/rows\n",
    "print(\"K-means purity: \",KMeansPurity)"
   ]
  },
  {
   "cell_type": "markdown",
   "metadata": {},
   "source": [
    "## Part 3: Gaussian Mixture Model (GMM)"
   ]
  },
  {
   "cell_type": "code",
   "execution_count": 87,
   "metadata": {},
   "outputs": [],
   "source": [
    "from sklearn.mixture import GaussianMixture\n",
    "GMM=GaussianMixture(n_components=5).fit(ans)\n",
    "gmmlabel=GMM.predict(ans)"
   ]
  },
  {
   "cell_type": "code",
   "execution_count": 97,
   "metadata": {},
   "outputs": [
    {
     "name": "stdout",
     "output_type": "stream",
     "text": [
      "Contingency Matrix is: \n"
     ]
    },
    {
     "data": {
      "text/plain": [
       "array([[1444, 3118,  361,   39,    1],\n",
       "       [ 131, 9058,  900,   85,    3],\n",
       "       [1359,   10,  948,    0,    0],\n",
       "       [  71, 1178,  103,   73,    6],\n",
       "       [6109,    0,    1,    0,    0]])"
      ]
     },
     "execution_count": 97,
     "metadata": {},
     "output_type": "execute_result"
    }
   ],
   "source": [
    "CMatrix=contingency_matrix(gmmlabel,assignedLabel)\n",
    "print(\"Contingency Matrix is: \")\n",
    "CMatrix"
   ]
  },
  {
   "cell_type": "code",
   "execution_count": 98,
   "metadata": {},
   "outputs": [
    {
     "name": "stdout",
     "output_type": "stream",
     "text": [
      "Purity of Cluster:  0  : 62.82490429175902\n",
      "Purity of Cluster:  1  : 89.00461825685369\n",
      "Purity of Cluster:  2  : 58.653431160984034\n",
      "Purity of Cluster:  3  : 82.32005590496156\n",
      "Purity of Cluster:  4  : 99.9836333878887\n",
      "GMM purity:  0.8329466357308585\n"
     ]
    }
   ],
   "source": [
    "for idx,val in enumerate(CMatrix):\n",
    "    print(\"Purity of Cluster: \",idx,\" :\",max(val)*100/sum(val))\n",
    "GMMPurity=sum([max(item) for item in CMatrix])/rows\n",
    "print(\"GMM purity: \",GMMPurity)"
   ]
  },
  {
   "cell_type": "markdown",
   "metadata": {},
   "source": [
    "## Part 4: Hierarchical Clustering"
   ]
  },
  {
   "cell_type": "code",
   "execution_count": 90,
   "metadata": {},
   "outputs": [],
   "source": [
    "from sklearn.cluster import AgglomerativeClustering\n",
    "HCluster=AgglomerativeClustering(n_clusters=5,affinity='euclidean',linkage='single')\n",
    "hLabels=HCluster.fit_predict(ans)"
   ]
  },
  {
   "cell_type": "code",
   "execution_count": 99,
   "metadata": {},
   "outputs": [
    {
     "name": "stdout",
     "output_type": "stream",
     "text": [
      "Contingency Matrix is: \n"
     ]
    },
    {
     "data": {
      "text/plain": [
       "array([[    0,     6,     0,     0,     0],\n",
       "       [ 9114, 13356,  2312,   197,    10],\n",
       "       [    0,     1,     0,     0,     0],\n",
       "       [    0,     1,     0,     0,     0],\n",
       "       [    0,     0,     1,     0,     0]])"
      ]
     },
     "execution_count": 99,
     "metadata": {},
     "output_type": "execute_result"
    }
   ],
   "source": [
    "CMatrix=contingency_matrix(hLabels,assignedLabel)\n",
    "print(\"Contingency Matrix is: \")\n",
    "CMatrix"
   ]
  },
  {
   "cell_type": "code",
   "execution_count": 100,
   "metadata": {},
   "outputs": [
    {
     "name": "stdout",
     "output_type": "stream",
     "text": [
      "Purity of Cluster:  0  : 100.0\n",
      "Purity of Cluster:  1  : 53.44751690743927\n",
      "Purity of Cluster:  2  : 100.0\n",
      "Purity of Cluster:  3  : 100.0\n",
      "Purity of Cluster:  4  : 100.0\n",
      "Hierarchical purity:  0.5346427714217138\n"
     ]
    }
   ],
   "source": [
    "for idx,val in enumerate(CMatrix):\n",
    "    print(\"Purity of Cluster: \",idx,\" :\",max(val)*100/sum(val))\n",
    "HPurity=sum([max(item) for item in CMatrix])/rows\n",
    "print(\"Hierarchical purity: \",HPurity)"
   ]
  },
  {
   "cell_type": "code",
   "execution_count": 101,
   "metadata": {},
   "outputs": [
    {
     "data": {
      "image/png": "[encoded data removed]",
      "text/plain": [
       "<Figure size 432x288 with 1 Axes>"
      ]
     },
     "metadata": {},
     "output_type": "display_data"
    }
   ],
   "source": [
    "import matplotlib.pyplot as plt\n",
    "slices_hours=[KMeansPurity,GMMPurity,HPurity]\n",
    "Algorithms=['K-means','GMM','Hierarchical']\n",
    "colors=['red','orange','pink']\n",
    "fig1,ax1=plt.subplots()\n",
    "ax1.pie(slices_hours,colors=colors,labels=Algorithms,autopct='%1.1f%%',shadow=True,startangle=120)\n",
    "ax1.axis('equal')\n",
    "plt.show()"
   ]
  },
  {
   "cell_type": "markdown",
   "metadata": {},
   "source": [
    "## Part 5: PCA on Categorical Data"
   ]
  },
  {
   "cell_type": "markdown",
   "metadata": {},
   "source": [
    "We should not use PCA for categorical dataset because it involves Projection, CoVariance and Eigen Values matrices which are not possible for categorical data. Specially CoVariance can only be calculated for numerical data. For example a value of \"YES\" and \"NO\" would not have any significance in a covariance matrix and hence we can not continue the PCA algorithm for dimensionality reduction."
   ]
  },
  {
   "cell_type": "code",
   "execution_count": null,
   "metadata": {},
   "outputs": [],
   "source": []
  }
 ],
 "metadata": {
  "kernelspec": {
   "display_name": "Python 3",
   "language": "python",
   "name": "python3"
  },
  "language_info": {
   "codemirror_mode": {
    "name": "ipython",
    "version": 3
   },
   "file_extension": ".py",
   "mimetype": "text/x-python",
   "name": "python",
   "nbconvert_exporter": "python",
   "pygments_lexer": "ipython3",
   "version": "3.6.7"
  }
 },
 "nbformat": 4,
 "nbformat_minor": 2
}
