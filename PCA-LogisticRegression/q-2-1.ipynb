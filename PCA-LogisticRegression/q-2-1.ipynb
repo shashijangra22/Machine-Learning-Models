{
 "cells": [
  {
   "cell_type": "code",
   "execution_count": 454,
   "metadata": {},
   "outputs": [],
   "source": [
    "import numpy as np\n",
    "import pandas as pd"
   ]
  },
  {
   "cell_type": "code",
   "execution_count": 455,
   "metadata": {},
   "outputs": [],
   "source": [
    "dataSet=pd.read_csv('./input_data/AdmissionDataset.csv').drop(['Serial No.'],axis=1)"
   ]
  },
  {
   "cell_type": "code",
   "execution_count": 456,
   "metadata": {},
   "outputs": [],
   "source": [
    "dataSet['Chance of Admit ']=dataSet['Chance of Admit '].apply(lambda x: 1 if x>=0.5 else 0)\n",
    "\n",
    "dataSet.insert(0,'ones',[1 for x in range(len(dataSet))])\n",
    "\n",
    "trainingData=dataSet.sample(frac=0.8)\n",
    "validationData=dataSet.drop(trainingData.index)\n",
    "trainingLabel=trainingData.pop('Chance of Admit ')\n",
    "validationLabel=validationData.pop('Chance of Admit ')"
   ]
  },
  {
   "cell_type": "code",
   "execution_count": 457,
   "metadata": {},
   "outputs": [],
   "source": [
    "def sigmoid(z):\n",
    "    return (1/(1+np.exp(-z)))"
   ]
  },
  {
   "cell_type": "code",
   "execution_count": 458,
   "metadata": {},
   "outputs": [],
   "source": [
    "def gradientDescent():\n",
    "    theta=np.zeros((trainingData.shape[1],1))\n",
    "    for x in range(1000):\n",
    "        X_theta=np.dot(trainingData,theta)\n",
    "        dotProd=np.dot(trainingData.T,(sigmoid(X_theta)-np.array([trainingLabel]).T))\n",
    "        theta=theta-(dotProd*0.001)/len(trainingData)\n",
    "    return theta"
   ]
  },
  {
   "cell_type": "code",
   "execution_count": 459,
   "metadata": {},
   "outputs": [],
   "source": [
    "theta=gradientDescent()"
   ]
  },
  {
   "cell_type": "code",
   "execution_count": 460,
   "metadata": {},
   "outputs": [],
   "source": [
    "predictedLabels=np.squeeze(sigmoid(np.dot(validationData,theta))).tolist()\n",
    "predictedLabels=[1 if x>=0.5 else 0 for x in predictedLabels]"
   ]
  },
  {
   "cell_type": "code",
   "execution_count": 461,
   "metadata": {},
   "outputs": [
    {
     "name": "stdout",
     "output_type": "stream",
     "text": [
      "Accuracy is:  91.11111111111111\n"
     ]
    }
   ],
   "source": [
    "c=sum([1 for a,b in zip(predictedLabels,validationLabel) if a==b])\n",
    "print(\"Accuracy is: \",c*100/len(validationLabel))"
   ]
  }
 ],
 "metadata": {
  "kernelspec": {
   "display_name": "Python 3",
   "language": "python",
   "name": "python3"
  },
  "language_info": {
   "codemirror_mode": {
    "name": "ipython",
    "version": 3
   },
   "file_extension": ".py",
   "mimetype": "text/x-python",
   "name": "python",
   "nbconvert_exporter": "python",
   "pygments_lexer": "ipython3",
   "version": "3.6.7"
  }
 },
 "nbformat": 4,
 "nbformat_minor": 2
}
