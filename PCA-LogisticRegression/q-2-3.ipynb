{
 "cells": [
  {
   "cell_type": "code",
   "execution_count": 20,
   "metadata": {},
   "outputs": [],
   "source": [
    "import numpy as np\n",
    "import pandas as pd\n",
    "import matplotlib.pyplot as plt"
   ]
  },
  {
   "cell_type": "code",
   "execution_count": 21,
   "metadata": {},
   "outputs": [],
   "source": [
    "def sigmoid(z):\n",
    "    return (1/(1+np.exp(-z)))"
   ]
  },
  {
   "cell_type": "code",
   "execution_count": 22,
   "metadata": {},
   "outputs": [],
   "source": [
    "def gradientDescent(trainingData,trainingLabel):\n",
    "    theta=np.zeros((trainingData.shape[1],1))\n",
    "    for x in range(1000):\n",
    "        X_theta=np.dot(trainingData,theta)\n",
    "        dotProd=np.dot(trainingData.T,(sigmoid(X_theta)-np.array([trainingLabel]).T))\n",
    "        theta=theta-(dotProd*0.001)/len(trainingData)\n",
    "    return theta"
   ]
  },
  {
   "cell_type": "code",
   "execution_count": 23,
   "metadata": {},
   "outputs": [],
   "source": [
    "def LogisticRegression(threshold):\n",
    "    dataSet=pd.read_csv('./input_data/AdmissionDataset.csv').drop(['Serial No.'],axis=1)\n",
    "    dataSet['Chance of Admit ']=dataSet['Chance of Admit '].apply(lambda x: 1 if x>=threshold else 0)\n",
    "\n",
    "    dataSet.insert(0,'ones',[1 for x in range(len(dataSet))])\n",
    "\n",
    "    trainingData=dataSet.sample(frac=0.8)\n",
    "    validationData=dataSet.drop(trainingData.index)\n",
    "    \n",
    "    trainingLabel=trainingData.pop('Chance of Admit ')\n",
    "    validationLabel=validationData.pop('Chance of Admit ')\n",
    "\n",
    "    theta=gradientDescent(trainingData,trainingLabel)\n",
    "    \n",
    "    predictedLabels=np.squeeze(sigmoid(np.dot(validationData,theta))).tolist()\n",
    "    predictedLabels=[1 if x>=threshold else 0 for x in predictedLabels]\n",
    "    \n",
    "    TP,TN,FP,FN=0,0,0,0\n",
    "    for a,b in zip(predictedLabels,validationLabel):\n",
    "        if a==b:\n",
    "            if a:\n",
    "                TP+=1\n",
    "            else:\n",
    "                TN+=1\n",
    "        else:\n",
    "            if a:\n",
    "                FP+=1\n",
    "            else:\n",
    "                FN+=1\n",
    "    accuracy=(TP+TN)/(TP+TN+FP+FN)\n",
    "    if(TP+FP==0):\n",
    "        precision=0\n",
    "    else:\n",
    "        precision=(TP)/(TP+FP)\n",
    "    if(TP+FN==0):\n",
    "        recall=0\n",
    "    else:\n",
    "        recall=(TP)/(TP+FN)\n",
    "    return accuracy,precision,recall"
   ]
  },
  {
   "cell_type": "code",
   "execution_count": 24,
   "metadata": {},
   "outputs": [],
   "source": [
    "thresholds=[x/10 for x in range(11)]\n",
    "accuracies,precisions,recalls=[],[],[]\n",
    "for x in thresholds:\n",
    "    a,b,c=LogisticRegression(x)\n",
    "    accuracies.append(a)\n",
    "    precisions.append(b)\n",
    "    recalls.append(c)"
   ]
  },
  {
   "cell_type": "code",
   "execution_count": 25,
   "metadata": {},
   "outputs": [
    {
     "data": {
      "image/png": "[encoded data removed]",
      "text/plain": [
       "<Figure size 432x288 with 1 Axes>"
      ]
     },
     "metadata": {
      "needs_background": "light"
     },
     "output_type": "display_data"
    }
   ],
   "source": [
    "plt.plot(thresholds,precisions,label=\"Precision\")\n",
    "plt.plot(thresholds,recalls,label=\"Recall\")\n",
    "plt.xlabel('Threshold')\n",
    "plt.ylabel('Precision/Recall')\n",
    "plt.title('Threshold vs Precision/Recall')\n",
    "plt.grid(True)\n",
    "plt.legend()\n",
    "plt.show()"
   ]
  },
  {
   "cell_type": "markdown",
   "metadata": {},
   "source": [
    "The graph above, shows the tradeoff between recall and precision.  If the costs of identifying heart disease are small, then it may be appropriate to lower the threshold value to increase recall. Precision will increase but given low costs of incorrectly predicting the presence of heart disease, this may be considered an acceptable trade-off."
   ]
  },
  {
   "cell_type": "code",
   "execution_count": null,
   "metadata": {},
   "outputs": [],
   "source": []
  }
 ],
 "metadata": {
  "kernelspec": {
   "display_name": "Python 3",
   "language": "python",
   "name": "python3"
  },
  "language_info": {
   "codemirror_mode": {
    "name": "ipython",
    "version": 3
   },
   "file_extension": ".py",
   "mimetype": "text/x-python",
   "name": "python",
   "nbconvert_exporter": "python",
   "pygments_lexer": "ipython3",
   "version": "3.6.7"
  }
 },
 "nbformat": 4,
 "nbformat_minor": 2
}
