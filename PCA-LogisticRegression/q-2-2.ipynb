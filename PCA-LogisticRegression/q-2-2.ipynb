{
 "cells": [
  {
   "cell_type": "code",
   "execution_count": 41,
   "metadata": {},
   "outputs": [],
   "source": [
    "import numpy as np\n",
    "import pandas as pd\n",
    "import math"
   ]
  },
  {
   "cell_type": "code",
   "execution_count": 42,
   "metadata": {},
   "outputs": [],
   "source": [
    "dataSet=pd.read_csv('./input_data/AdmissionDataset.csv').drop(['Serial No.'],axis=1)"
   ]
  },
  {
   "cell_type": "code",
   "execution_count": 43,
   "metadata": {},
   "outputs": [],
   "source": [
    "dataSet['Chance of Admit ']=dataSet['Chance of Admit '].apply(lambda x: 1 if x>=0.5 else 0)\n",
    "\n",
    "dataSet.insert(0,'ones',[1 for x in range(len(dataSet))])\n",
    "\n",
    "trainingData=dataSet.sample(frac=0.8)\n",
    "validationData=dataSet.drop(trainingData.index)\n",
    "trainingLabel=trainingData.pop('Chance of Admit ')\n",
    "validationLabel=validationData.pop('Chance of Admit ')"
   ]
  },
  {
   "cell_type": "code",
   "execution_count": 44,
   "metadata": {},
   "outputs": [],
   "source": [
    "def sigmoid(z):\n",
    "    return (1/(1+np.exp(-z)))"
   ]
  },
  {
   "cell_type": "code",
   "execution_count": 45,
   "metadata": {},
   "outputs": [],
   "source": [
    "def gradientDescent():\n",
    "    theta=np.zeros((trainingData.shape[1],1))\n",
    "    for x in range(1000):\n",
    "        X_theta=np.dot(trainingData,theta)\n",
    "        dotProd=np.dot(trainingData.T,(sigmoid(X_theta)-np.array([trainingLabel]).T))\n",
    "        theta=theta-(dotProd*0.001)/len(trainingData)\n",
    "    return theta"
   ]
  },
  {
   "cell_type": "code",
   "execution_count": 46,
   "metadata": {},
   "outputs": [],
   "source": [
    "theta=gradientDescent()"
   ]
  },
  {
   "cell_type": "code",
   "execution_count": 47,
   "metadata": {},
   "outputs": [],
   "source": [
    "predictedLabels=np.squeeze(sigmoid(np.dot(validationData,theta))).tolist()\n",
    "predictedLabels=[1 if x>=0.5 else 0 for x in predictedLabels]"
   ]
  },
  {
   "cell_type": "code",
   "execution_count": 48,
   "metadata": {
    "scrolled": true
   },
   "outputs": [
    {
     "name": "stdout",
     "output_type": "stream",
     "text": [
      "Accuracy is:  78.88888888888889\n"
     ]
    }
   ],
   "source": [
    "c=sum([1 for a,b in zip(predictedLabels,validationLabel) if a==b])\n",
    "print(\"Accuracy is: \",c*100/len(validationLabel))"
   ]
  },
  {
   "cell_type": "markdown",
   "metadata": {},
   "source": [
    "## KNN"
   ]
  },
  {
   "cell_type": "code",
   "execution_count": 49,
   "metadata": {},
   "outputs": [],
   "source": [
    "dataSet=pd.read_csv(\"./input_data/AdmissionDataset.csv\").drop(['Serial No.'],axis=1)\n",
    "dataSet['Chance of Admit ']=dataSet['Chance of Admit '].apply(lambda x: 1 if x>=0.5 else 0)\n",
    "trainingData=dataSet.sample(frac=0.8)\n",
    "validationData=dataSet.drop(trainingData.index)\n",
    "def euclidDistance(a,b):\n",
    "    temp=0\n",
    "    for key in b:\n",
    "        if key is not 'Chance of Admit ':\n",
    "            temp+=((b[key]-a[key])**2)\n",
    "    return math.sqrt(temp)\n",
    "\n",
    "distances=[]\n",
    "\n",
    "for vrow in validationData.to_dict('records'):\n",
    "    temp=[]\n",
    "    for trow in trainingData.to_dict('records'):\n",
    "        temp.append([euclidDistance(vrow,trow),trow['Chance of Admit ']])\n",
    "    distances.append(sorted(temp))"
   ]
  },
  {
   "cell_type": "code",
   "execution_count": 50,
   "metadata": {},
   "outputs": [],
   "source": [
    "def KNNPredict(k):\n",
    "    predictions=[]\n",
    "    for i in range(len(validationData)):\n",
    "        ones=0\n",
    "        for item in distances[i][:k]:\n",
    "            ones+=item[1]\n",
    "        zeros=k-ones\n",
    "        if(ones>zeros):\n",
    "            ans=1\n",
    "        else:\n",
    "            ans=0\n",
    "        predictions.append(ans)\n",
    "\n",
    "    labels=list(validationData['Chance of Admit '])\n",
    "    c=0\n",
    "    for i in range(len(labels)):\n",
    "        a=labels[i]\n",
    "        b=predictions[i]\n",
    "        if(a==b):\n",
    "            c+=1\n",
    "    accuracy=(c)/(len(validationData))\n",
    "    return accuracy*100"
   ]
  },
  {
   "cell_type": "code",
   "execution_count": 51,
   "metadata": {},
   "outputs": [
    {
     "name": "stdout",
     "output_type": "stream",
     "text": [
      "Accuracy on k:  1 :  95.55555555555556 %\n",
      "Accuracy on k:  3 :  92.22222222222223 %\n",
      "Accuracy on k:  5 :  94.44444444444444 %\n",
      "Accuracy on k:  7 :  94.44444444444444 %\n",
      "Accuracy on k:  9 :  94.44444444444444 %\n",
      "Accuracy on k:  11 :  94.44444444444444 %\n",
      "Accuracy on k:  13 :  94.44444444444444 %\n",
      "Accuracy on k:  15 :  93.33333333333333 %\n",
      "Accuracy on k:  17 :  93.33333333333333 %\n"
     ]
    }
   ],
   "source": [
    "for k in range(1,int(math.sqrt(len(trainingData))),2):\n",
    "    print(\"Accuracy on k: \",k,\": \", KNNPredict(k),\"%\")"
   ]
  },
  {
   "cell_type": "code",
   "execution_count": null,
   "metadata": {},
   "outputs": [],
   "source": []
  }
 ],
 "metadata": {
  "kernelspec": {
   "display_name": "Python 3",
   "language": "python",
   "name": "python3"
  },
  "language_info": {
   "codemirror_mode": {
    "name": "ipython",
    "version": 3
   },
   "file_extension": ".py",
   "mimetype": "text/x-python",
   "name": "python",
   "nbconvert_exporter": "python",
   "pygments_lexer": "ipython3",
   "version": "3.6.7"
  }
 },
 "nbformat": 4,
 "nbformat_minor": 2
}
