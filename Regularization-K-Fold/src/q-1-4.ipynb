{
 "cells": [
  {
   "cell_type": "code",
   "execution_count": 10,
   "metadata": {},
   "outputs": [],
   "source": [
    "import numpy as np\n",
    "import pandas as pd\n",
    "from q_1_1 import LassoRegression\n",
    "from q_1_2 import RidgeRegression"
   ]
  },
  {
   "cell_type": "code",
   "execution_count": 2,
   "metadata": {},
   "outputs": [],
   "source": [
    "dataSet=pd.read_csv('../input_data/data.csv').drop(['Serial No.'],axis=1)"
   ]
  },
  {
   "cell_type": "code",
   "execution_count": 3,
   "metadata": {},
   "outputs": [],
   "source": [
    "trainingData=dataSet.sample(frac=0.8,random_state=100)\n",
    "validationData=dataSet.drop(trainingData.index)\n",
    "trainingLabel=trainingData.pop('Chance of Admit ')\n",
    "validationLabel=validationData.pop('Chance of Admit ')"
   ]
  },
  {
   "cell_type": "code",
   "execution_count": 4,
   "metadata": {},
   "outputs": [],
   "source": [
    "X_Train=np.array(trainingData)\n",
    "X_Train=(X_Train-X_Train.mean(axis=0))/X_Train.std(axis=0)\n",
    "Y_Train=np.array(trainingLabel).reshape((len(trainingLabel),1))\n",
    "\n",
    "X_Test=np.array(validationData)\n",
    "X_Test=(X_Test-X_Test.mean(axis=0))/X_Test.std(axis=0)\n",
    "Y_Test=np.array(validationLabel).reshape((len(validationLabel),1))"
   ]
  },
  {
   "cell_type": "code",
   "execution_count": 5,
   "metadata": {},
   "outputs": [],
   "source": [
    "RidgeModel=RidgeRegression(alpha=0.1,lamda=5,epochs=1000)\n",
    "RidgeModel.fit(X_Train,Y_Train)\n",
    "\n",
    "LassoModel=LassoRegression(alpha=0.1,lamda=5,epochs=1000)\n",
    "LassoModel.fit(X_Train,Y_Train)"
   ]
  },
  {
   "cell_type": "code",
   "execution_count": 6,
   "metadata": {},
   "outputs": [],
   "source": [
    "thetaR=RidgeModel.theta\n",
    "thetaL=LassoModel.theta\n",
    "diffTheta=thetaR-thetaL"
   ]
  },
  {
   "cell_type": "code",
   "execution_count": 7,
   "metadata": {},
   "outputs": [
    {
     "name": "stdout",
     "output_type": "stream",
     "text": [
      "Weights of Ridge Regression:\n",
      " [[0.02045847]\n",
      " [0.01820959]\n",
      " [0.00897317]\n",
      " [0.00417868]\n",
      " [0.01686292]\n",
      " [0.06628734]\n",
      " [0.01490073]]\n",
      "Weights of Lasso Regression:\n",
      " [[0.01770614]\n",
      " [0.01360849]\n",
      " [0.00482471]\n",
      " [0.00178719]\n",
      " [0.0116344 ]\n",
      " [0.07129059]\n",
      " [0.00716781]]\n",
      "Weight difference b/w Ridge & Lasso:\n",
      " [[ 0.00275233]\n",
      " [ 0.0046011 ]\n",
      " [ 0.00414846]\n",
      " [ 0.00239149]\n",
      " [ 0.00522852]\n",
      " [-0.00500325]\n",
      " [ 0.00773292]]\n"
     ]
    }
   ],
   "source": [
    "print(\"Weights of Ridge Regression:\\n\",thetaR)\n",
    "print(\"Weights of Lasso Regression:\\n\",thetaL)\n",
    "print(\"Weight difference b/w Ridge & Lasso:\\n\",diffTheta)"
   ]
  },
  {
   "cell_type": "code",
   "execution_count": 8,
   "metadata": {},
   "outputs": [
    {
     "name": "stdout",
     "output_type": "stream",
     "text": [
      "Error on Ridge Regression: 0.0020437283276922838\n"
     ]
    }
   ],
   "source": [
    "print(\"Error on Ridge Regression:\",RidgeModel.MSE(X_Test,Y_Test))"
   ]
  },
  {
   "cell_type": "code",
   "execution_count": 9,
   "metadata": {},
   "outputs": [
    {
     "name": "stdout",
     "output_type": "stream",
     "text": [
      "Error on Lasso Regression: 0.0018766387839987179\n"
     ]
    }
   ],
   "source": [
    "print(\"Error on Lasso Regression:\",LassoModel.MSE(X_Test,Y_Test))"
   ]
  },
  {
   "cell_type": "code",
   "execution_count": null,
   "metadata": {},
   "outputs": [],
   "source": []
  }
 ],
 "metadata": {
  "kernelspec": {
   "display_name": "Python 3",
   "language": "python",
   "name": "python3"
  },
  "language_info": {
   "codemirror_mode": {
    "name": "ipython",
    "version": 3
   },
   "file_extension": ".py",
   "mimetype": "text/x-python",
   "name": "python",
   "nbconvert_exporter": "python",
   "pygments_lexer": "ipython3",
   "version": "3.6.7"
  }
 },
 "nbformat": 4,
 "nbformat_minor": 2
}
