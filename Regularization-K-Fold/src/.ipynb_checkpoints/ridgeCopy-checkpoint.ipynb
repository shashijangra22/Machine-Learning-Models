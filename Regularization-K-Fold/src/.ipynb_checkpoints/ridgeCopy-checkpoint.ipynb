{
 "cells": [
  {
   "cell_type": "code",
   "execution_count": 128,
   "metadata": {},
   "outputs": [],
   "source": [
    "import numpy as np\n",
    "import pandas as pd"
   ]
  },
  {
   "cell_type": "code",
   "execution_count": 129,
   "metadata": {},
   "outputs": [],
   "source": [
    "dataSet=pd.read_csv('../input_data/data.csv').drop(['Serial No.'],axis=1)"
   ]
  },
  {
   "cell_type": "code",
   "execution_count": 130,
   "metadata": {},
   "outputs": [],
   "source": [
    "trainingData=dataSet.sample(frac=0.8,random_state=200)\n",
    "validationData=dataSet.drop(trainingData.index)\n",
    "trainingLabel=trainingData.pop('Chance of Admit ')\n",
    "validationLabel=validationData.pop('Chance of Admit ')"
   ]
  },
  {
   "cell_type": "code",
   "execution_count": 145,
   "metadata": {},
   "outputs": [],
   "source": [
    "def Cost(theta,bias,X,Y,lamb):\n",
    "    X_theta=np.dot(X,theta)+bias\n",
    "    return (0.5/len(X))*(np.sum((X_theta-Y)**2)+lamb*np.dot(theta.T,theta))"
   ]
  },
  {
   "cell_type": "code",
   "execution_count": 146,
   "metadata": {},
   "outputs": [],
   "source": [
    "def GD(X,Y,alpha,epochs,lamb):\n",
    "    theta=np.zeros((X.shape[1],1))\n",
    "    bias=1\n",
    "    for e in range(epochs):\n",
    "        X_theta=np.dot(X,theta)+bias\n",
    "        dBias=np.sum(X_theta-Y)\n",
    "        dTheta=np.dot(X.T,(X_theta-Y))\n",
    "        regularizedTerm=dTheta+lamb*theta\n",
    "        bias=bias-(alpha/len(X)*dBias)\n",
    "        theta=theta-(alpha/len(X)*regularizedTerm)\n",
    "        if not e%100:\n",
    "            print(\"Cost at epoch {} is: {}\".format(e,Cost(theta,bias,X,Y,lamb)))\n",
    "    return theta,bias"
   ]
  },
  {
   "cell_type": "code",
   "execution_count": 147,
   "metadata": {},
   "outputs": [],
   "source": [
    "X_Train=np.array(trainingData)\n",
    "X_Train=(X_Train-X_Train.mean(axis=0))/X_Train.std(axis=0)\n",
    "# X_Train=np.insert(X_Train,0,1,axis=1)\n",
    "\n",
    "Y_Train=np.array(trainingLabel).reshape((len(trainingLabel),1))\n",
    "\n",
    "X_Test=np.array(validationData)\n",
    "X_Test=(X_Test-X_Test.mean(axis=0))/X_Test.std(axis=0)\n",
    "# X_Test=np.insert(X_Test,0,1,axis=1)\n",
    "\n",
    "Y_Test=np.array(validationLabel).reshape((len(validationLabel),1))"
   ]
  },
  {
   "cell_type": "code",
   "execution_count": 148,
   "metadata": {
    "scrolled": true
   },
   "outputs": [
    {
     "name": "stdout",
     "output_type": "stream",
     "text": [
      "Cost at epoch 0 is: [[0.03623047]]\n",
      "Cost at epoch 100 is: [[0.00187199]]\n",
      "Cost at epoch 200 is: [[0.00186555]]\n",
      "Cost at epoch 300 is: [[0.00186529]]\n",
      "Cost at epoch 400 is: [[0.00186528]]\n",
      "Cost at epoch 500 is: [[0.00186528]]\n",
      "Cost at epoch 600 is: [[0.00186528]]\n",
      "Cost at epoch 700 is: [[0.00186528]]\n",
      "Cost at epoch 800 is: [[0.00186528]]\n",
      "Cost at epoch 900 is: [[0.00186528]]\n",
      "\n",
      "Error is: [[0.00172548]]\n"
     ]
    }
   ],
   "source": [
    "lamb=0.1\n",
    "theta,bias=GD(X_Train,Y_Train,0.1,1000,lamb)\n",
    "print(\"\\nError is:\",Cost(theta,bias,X_Test,Y_Test,lamb))"
   ]
  },
  {
   "cell_type": "code",
   "execution_count": 142,
   "metadata": {},
   "outputs": [
    {
     "data": {
      "text/plain": [
       "array([1, 4, 9])"
      ]
     },
     "execution_count": 142,
     "metadata": {},
     "output_type": "execute_result"
    }
   ],
   "source": []
  },
  {
   "cell_type": "code",
   "execution_count": null,
   "metadata": {},
   "outputs": [],
   "source": []
  }
 ],
 "metadata": {
  "kernelspec": {
   "display_name": "Python 3",
   "language": "python",
   "name": "python3"
  },
  "language_info": {
   "codemirror_mode": {
    "name": "ipython",
    "version": 3
   },
   "file_extension": ".py",
   "mimetype": "text/x-python",
   "name": "python",
   "nbconvert_exporter": "python",
   "pygments_lexer": "ipython3",
   "version": "3.6.7"
  }
 },
 "nbformat": 4,
 "nbformat_minor": 2
}
