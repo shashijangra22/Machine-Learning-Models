{
 "cells": [
  {
   "cell_type": "code",
   "execution_count": 208,
   "metadata": {},
   "outputs": [],
   "source": [
    "import numpy as np\n",
    "import pandas as pd\n",
    "import matplotlib.pyplot as plt\n",
    "from sklearn.model_selection import KFold"
   ]
  },
  {
   "cell_type": "code",
   "execution_count": 209,
   "metadata": {},
   "outputs": [],
   "source": [
    "dataSet=pd.read_csv('../input_data/data.csv').drop(['Serial No.'],axis=1)\n",
    "Y = np.array(dataSet.pop('Chance of Admit '))\n",
    "X = np.array(dataSet)\n",
    "X = (X-X.mean(axis=0))/X.std(axis=0)"
   ]
  },
  {
   "cell_type": "code",
   "execution_count": 210,
   "metadata": {},
   "outputs": [],
   "source": [
    "def divisors(X):\n",
    "    div=[]\n",
    "    for d in range(2,X+1):\n",
    "        if X%d==0:\n",
    "            div.append(d)\n",
    "    return div"
   ]
  },
  {
   "cell_type": "code",
   "execution_count": 211,
   "metadata": {},
   "outputs": [],
   "source": [
    "class RidgeRegression():\n",
    "    \n",
    "    def __init__(self,alpha,lamda,epochs):\n",
    "        self.alpha=alpha\n",
    "        self.lamda=lamda\n",
    "        self.epochs=epochs\n",
    "        \n",
    "    def Cost(self,X,Y):\n",
    "        X_theta=np.dot(X,self.theta)+self.bias\n",
    "        return (0.5/len(X))*(np.sum((X_theta-Y)**2)+self.lamda*np.sum(self.theta**2))\n",
    "    \n",
    "    def MSE(self,Y_predict,Y):\n",
    "        return (0.5/len(X))*(np.sum((Y_predict-Y)**2))\n",
    "    \n",
    "    def GD(self,X,Y):\n",
    "        theta=np.zeros((X.shape[1],1))\n",
    "        bias=1\n",
    "        for e in range(self.epochs):\n",
    "            X_theta=np.dot(X,theta)+bias\n",
    "            dBias=np.sum(X_theta-Y)\n",
    "            regularizedTerm=np.dot(X.T,(X_theta-Y))+self.lamda*theta\n",
    "            bias=bias-(self.alpha/len(X)*dBias)\n",
    "            theta=theta-(self.alpha/len(X)*regularizedTerm)\n",
    "        return theta,bias\n",
    "    \n",
    "    def fit(self,X,Y):\n",
    "        self.theta,self.bias=self.GD(X,Y)\n",
    "    \n",
    "    def predict(self,X):\n",
    "        return np.dot(X,self.theta)+self.bias"
   ]
  },
  {
   "cell_type": "code",
   "execution_count": 212,
   "metadata": {},
   "outputs": [
    {
     "name": "stdout",
     "output_type": "stream",
     "text": [
      "Error for K: 2 is: 0.0009666701930278005\n",
      "Error for K: 3 is: 0.0006382781040421375\n",
      "Error for K: 5 is: 0.00037777706084499103\n",
      "Error for K: 6 is: 0.0003131975318743765\n",
      "Error for K: 9 is: 0.00020912156573686932\n",
      "Error for K: 10 is: 0.00018925374916075243\n",
      "Error for K: 15 is: 0.00012522145967785919\n",
      "Error for K: 18 is: 0.0001043841570647573\n",
      "Error for K: 25 is: 7.523996252689575e-05\n",
      "Error for K: 30 is: 6.279227463973438e-05\n",
      "Error for K: 45 is: 4.1877858728170975e-05\n",
      "Error for K: 50 is: 3.78356034704799e-05\n",
      "Error for K: 75 is: 2.511472155800915e-05\n",
      "Error for K: 90 is: 2.1017204597402638e-05\n",
      "Error for K: 150 is: 1.260412666426668e-05\n",
      "Error for K: 225 is: 8.396694823164532e-06\n",
      "Error for K: 450 (Leave One Out Cross-Validation) is: 4.1997752662762325e-06\n"
     ]
    }
   ],
   "source": [
    "errors=[]\n",
    "for k in divisors(len(X)):\n",
    "    kf=KFold(n_splits=k, random_state=100, shuffle=False)\n",
    "    error=0\n",
    "    for train_index, test_index in kf.split(X):\n",
    "\n",
    "        X_train, X_test = X[train_index], X[test_index]\n",
    "        Y_train, Y_test = Y[train_index], Y[test_index]\n",
    "\n",
    "        Y_train=Y_train.reshape((len(Y_train),1))\n",
    "        Y_test=Y_test.reshape((len(Y_test),1))\n",
    "\n",
    "        model=RidgeRegression(alpha=0.1,lamda=5,epochs=1000)\n",
    "        \n",
    "        model.fit(X_train,Y_train)\n",
    "        Y_predict=model.predict(X_test)\n",
    "\n",
    "        error+=model.MSE(Y_predict,Y_test)\n",
    "    errors.append(error/k)\n",
    "    if k==len(X):\n",
    "        print(\"Error for K: {} (Leave One Out Cross-Validation) is: {}\".format(k,error/k))\n",
    "    else:\n",
    "        print(\"Error for K: {} is: {}\".format(k,error/k))"
   ]
  },
  {
   "cell_type": "code",
   "execution_count": 207,
   "metadata": {},
   "outputs": [
    {
     "data": {
      "image/png": "[encoded data removed]",
      "text/plain": [
       "<Figure size 432x288 with 1 Axes>"
      ]
     },
     "metadata": {
      "needs_background": "light"
     },
     "output_type": "display_data"
    }
   ],
   "source": [
    "plt.plot(divisors(len(X)),errors)\n",
    "plt.title('K vs Error')\n",
    "plt.xlabel('K')\n",
    "plt.grid(True)\n",
    "plt.ylabel('Error')\n",
    "plt.show()"
   ]
  },
  {
   "cell_type": "code",
   "execution_count": null,
   "metadata": {},
   "outputs": [],
   "source": []
  }
 ],
 "metadata": {
  "kernelspec": {
   "display_name": "Python 3",
   "language": "python",
   "name": "python3"
  },
  "language_info": {
   "codemirror_mode": {
    "name": "ipython",
    "version": 3
   },
   "file_extension": ".py",
   "mimetype": "text/x-python",
   "name": "python",
   "nbconvert_exporter": "python",
   "pygments_lexer": "ipython3",
   "version": "3.6.7"
  }
 },
 "nbformat": 4,
 "nbformat_minor": 2
}
