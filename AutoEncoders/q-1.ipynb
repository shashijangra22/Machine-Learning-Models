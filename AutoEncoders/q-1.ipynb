{
 "cells": [
  {
   "cell_type": "markdown",
   "metadata": {},
   "source": [
    "# Part-1: Dimensionality reduction using Auto-Encoder"
   ]
  },
  {
   "cell_type": "code",
   "execution_count": 141,
   "metadata": {},
   "outputs": [],
   "source": [
    "import numpy as np\n",
    "import pandas as pd\n",
    "from copy import deepcopy\n",
    "from numpy import linalg as LA\n",
    "from sklearn.metrics.cluster import contingency_matrix\n",
    "from sklearn.mixture import GaussianMixture\n",
    "from sklearn.cluster import AgglomerativeClustering\n",
    "import matplotlib.pyplot as plt"
   ]
  },
  {
   "cell_type": "code",
   "execution_count": 2,
   "metadata": {},
   "outputs": [],
   "source": [
    "dataSet=pd.read_csv(\"data.csv\")"
   ]
  },
  {
   "cell_type": "code",
   "execution_count": 3,
   "metadata": {},
   "outputs": [
    {
     "name": "stdout",
     "output_type": "stream",
     "text": [
      "Dimensions before AutoEncoder:  (24998, 29)\n"
     ]
    }
   ],
   "source": [
    "label=dataSet['xAttack']\n",
    "dataSet=dataSet.drop(['xAttack'],axis=1)\n",
    "dataSet=np.array((dataSet-np.mean(dataSet))/np.std(dataSet))\n",
    "print(\"Dimensions before AutoEncoder: \",dataSet.shape)"
   ]
  },
  {
   "cell_type": "code",
   "execution_count": 25,
   "metadata": {},
   "outputs": [],
   "source": [
    "class Layer:\n",
    "    def __init__(self,currentSize):\n",
    "        self.layerSize=currentSize\n",
    "        self.Weights=None\n",
    "        self.Bias=None\n",
    "        self.Z=None\n",
    "        self.Activations=None\n",
    "        self.ActFunction=None\n",
    "        self.dActFunction=None\n",
    "\n",
    "class NeuralNetwork:\n",
    "    \n",
    "    def __init__(self,nLayers,layerSizes,hLayerActFunction,epochs,learningRate):\n",
    "        \n",
    "        self.nLayers=nLayers\n",
    "        self.layers=[]\n",
    "        self.epochs=epochs\n",
    "        self.learningRate=learningRate\n",
    "        \n",
    "        for x in range(self.nLayers):\n",
    "            self.layers.append(Layer(layerSizes[x]))\n",
    "        \n",
    "        for x in range(self.nLayers):\n",
    "            self.layers[x].Weights=np.random.randn(layerSizes[x],layerSizes[x-1])*np.sqrt(2/layerSizes[x-1])\n",
    "            self.layers[x].Bias=np.zeros((layerSizes[x],1))\n",
    "            self.layers[x].ActFunction=getattr(self,hLayerActFunction)\n",
    "            self.layers[x].dActFunction=getattr(self,\"der\"+hLayerActFunction)\n",
    "        \n",
    "    def forwardProp(self,X): # making the prediction on current weights\n",
    "        self.layers[0].Activations=self.layers[0].ActFunction(X.T)\n",
    "        for i in range(1,self.nLayers):\n",
    "            self.layers[i].Z=np.dot(self.layers[i].Weights,self.layers[i-1].Activations)+self.layers[i].Bias\n",
    "            self.layers[i].Activations=self.layers[i].ActFunction(self.layers[i].Z)\n",
    "        \n",
    "    def cost(self,X):\n",
    "        Y=self.layers[-1].Activations.T\n",
    "        return np.sum(np.sum(np.power((X-Y),2))/len(X))\n",
    "    \n",
    "    def backProp(self,X,Y): # back propogating the error\n",
    "        \n",
    "        self.layers[-1].dZ=(self.layers[-1].Activations-Y.T)*self.layers[-1].dActFunction(self.layers[-1].Activations)\n",
    "        self.layers[-1].dW=np.dot(self.layers[-1].dZ,self.layers[-2].Activations.T)/len(Y)\n",
    "        self.layers[-1].dB=(np.sum(np.array(self.layers[-1].dZ),axis=1,keepdims=True))/len(Y)\n",
    "        \n",
    "        for i in range(self.nLayers-2,0,-1):\n",
    "            self.layers[i].dZ=np.dot(self.layers[i+1].Weights.T,self.layers[i+1].dZ)*(self.layers[i].dActFunction(self.layers[i].Z))\n",
    "            self.layers[i].dW=np.dot(self.layers[i].dZ,self.layers[i-1].Activations.T)/len(Y)\n",
    "            self.layers[i].dB=(np.sum(np.array(self.layers[i].dZ),axis=1,keepdims=True))/len(Y)\n",
    "    \n",
    "        for i in range(1,self.nLayers):\n",
    "            self.layers[i].Weights-=self.learningRate*(self.layers[i].dW)\n",
    "            self.layers[i].Bias-=self.learningRate*(self.layers[i].dB)\n",
    "    \n",
    "    def derSIGMOID(self,z):\n",
    "        s=self.SIGMOID(z)\n",
    "        return s*(1-s)\n",
    "    \n",
    "    def LINEAR(self,z):\n",
    "        return z\n",
    "    \n",
    "    def derLINEAR(self,z):\n",
    "        return 1\n",
    "    \n",
    "    def TANH(self,x):\n",
    "        e_2x=np.exp(2*x)\n",
    "        return (e_2x-1)/(e_2x+1)\n",
    "    \n",
    "    def derTANH(self,x):\n",
    "        s=self.TANH(x)\n",
    "        return 1-s**2\n",
    "    \n",
    "    def RELU(self,z):\n",
    "        return np.maximum(z, 0)\n",
    "    \n",
    "    def derRELU(self,z):\n",
    "        return np.greater(z, 0).astype(int)\n",
    "    \n",
    "    def SIGMOID(self,z):\n",
    "        return 1/(1+np.exp(-z))\n",
    "    \n",
    "    def fit(self,X): # gradient Descent\n",
    "        for i in range(self.epochs):\n",
    "            self.forwardProp(X)\n",
    "            self.backProp(X,X)\n",
    "            if not i%100:\n",
    "                print(\"iteration: \",i,\"Error is: \",self.cost(X))"
   ]
  },
  {
   "cell_type": "markdown",
   "metadata": {},
   "source": [
    "# 3-Layer Auto-Encoder\n",
    "## Part 1 (a): Linear Activation Functions "
   ]
  },
  {
   "cell_type": "code",
   "execution_count": 26,
   "metadata": {
    "scrolled": true
   },
   "outputs": [],
   "source": [
    "model1=NeuralNetwork(3,[29,14,29],\"LINEAR\",epochs=1000,learningRate=0.04)"
   ]
  },
  {
   "cell_type": "code",
   "execution_count": 27,
   "metadata": {},
   "outputs": [
    {
     "name": "stdout",
     "output_type": "stream",
     "text": [
      "iteration:  0 Error is:  140.62809194090335\n",
      "iteration:  100 Error is:  4.925253817987557\n",
      "iteration:  200 Error is:  3.6323874506851817\n",
      "iteration:  300 Error is:  3.178096999768599\n",
      "iteration:  400 Error is:  2.989590277387998\n",
      "iteration:  500 Error is:  2.887710681388381\n",
      "iteration:  600 Error is:  2.8193866300158934\n",
      "iteration:  700 Error is:  2.7679084379226\n",
      "iteration:  800 Error is:  2.7284968701024765\n",
      "iteration:  900 Error is:  2.6994386181520955\n"
     ]
    }
   ],
   "source": [
    "model1.fit(dataSet)"
   ]
  },
  {
   "cell_type": "code",
   "execution_count": 28,
   "metadata": {},
   "outputs": [
    {
     "name": "stdout",
     "output_type": "stream",
     "text": [
      "Dimensions After AutoEncoder:  (24998, 14)\n"
     ]
    }
   ],
   "source": [
    "print(\"Dimensions After AutoEncoder: \",model1.layers[1].Activations.T.shape)\n",
    "ans1=model1.layers[1].Activations.T"
   ]
  },
  {
   "cell_type": "markdown",
   "metadata": {},
   "source": [
    "## Part-1 (b): Non-Linear Activation Functions"
   ]
  },
  {
   "cell_type": "code",
   "execution_count": 29,
   "metadata": {},
   "outputs": [],
   "source": [
    "model2=NeuralNetwork(3,[29,14,29],\"RELU\",epochs=1000,learningRate=0.2)"
   ]
  },
  {
   "cell_type": "code",
   "execution_count": 30,
   "metadata": {},
   "outputs": [
    {
     "name": "stdout",
     "output_type": "stream",
     "text": [
      "iteration:  0 Error is:  46.386633506132334\n",
      "iteration:  100 Error is:  13.44506514239692\n",
      "iteration:  200 Error is:  12.740319978528353\n",
      "iteration:  300 Error is:  12.646674346033373\n",
      "iteration:  400 Error is:  12.597637603826554\n",
      "iteration:  500 Error is:  12.569089492840941\n",
      "iteration:  600 Error is:  12.541005949900315\n",
      "iteration:  700 Error is:  12.342986628855288\n",
      "iteration:  800 Error is:  12.310661706730675\n",
      "iteration:  900 Error is:  12.293071463960768\n"
     ]
    }
   ],
   "source": [
    "model2.fit(dataSet)"
   ]
  },
  {
   "cell_type": "code",
   "execution_count": 34,
   "metadata": {},
   "outputs": [
    {
     "name": "stdout",
     "output_type": "stream",
     "text": [
      "Dimensions After AutoEncoder:  (24998, 14)\n"
     ]
    }
   ],
   "source": [
    "print(\"Dimensions After AutoEncoder: \",model2.layers[1].Activations.T.shape)\n",
    "ans2=model2.layers[1].Activations.T"
   ]
  },
  {
   "cell_type": "markdown",
   "metadata": {},
   "source": [
    "# Deep Auto-Encoder"
   ]
  },
  {
   "cell_type": "code",
   "execution_count": 62,
   "metadata": {},
   "outputs": [],
   "source": [
    "model3=NeuralNetwork(5,[29,21,14,21,29],\"RELU\",epochs=1000,learningRate=0.02)"
   ]
  },
  {
   "cell_type": "code",
   "execution_count": 63,
   "metadata": {},
   "outputs": [
    {
     "name": "stdout",
     "output_type": "stream",
     "text": [
      "iteration:  0 Error is:  40.54507475833471\n",
      "iteration:  100 Error is:  16.308851733079464\n",
      "iteration:  200 Error is:  14.946041783962748\n",
      "iteration:  300 Error is:  14.550101131123965\n",
      "iteration:  400 Error is:  14.342598331111454\n",
      "iteration:  500 Error is:  14.256607324350574\n",
      "iteration:  600 Error is:  14.203783129235873\n",
      "iteration:  700 Error is:  14.167473153341517\n",
      "iteration:  800 Error is:  14.13912570978456\n",
      "iteration:  900 Error is:  14.113955677582306\n"
     ]
    }
   ],
   "source": [
    "model3.fit(dataSet)"
   ]
  },
  {
   "cell_type": "code",
   "execution_count": 64,
   "metadata": {},
   "outputs": [
    {
     "name": "stdout",
     "output_type": "stream",
     "text": [
      "Dimensions After AutoEncoder:  (24998, 14)\n"
     ]
    }
   ],
   "source": [
    "print(\"Dimensions After AutoEncoder: \",model3.layers[2].Activations.T.shape)\n",
    "ans3=model3.layers[2].Activations.T"
   ]
  },
  {
   "cell_type": "markdown",
   "metadata": {},
   "source": [
    "# Part-2: K-Means Clustering"
   ]
  },
  {
   "cell_type": "code",
   "execution_count": 118,
   "metadata": {},
   "outputs": [],
   "source": [
    "def purity(clusters):\n",
    "    \n",
    "    uniqueLabel=np.unique(label).tolist()\n",
    "    labels=[uniqueLabel.index(x) for x in label.tolist()]\n",
    "\n",
    "    CMatrix=contingency_matrix(clusters,labels)\n",
    "    print(\"Contingency Matrix is: \")\n",
    "    print(CMatrix)\n",
    "\n",
    "    for idx,val in enumerate(CMatrix):\n",
    "        print(\"Purity of Cluster: \",idx,\" :\",max(val)*100/sum(val))\n",
    "\n",
    "    Purity=sum([max(item) for item in CMatrix])/len(label)\n",
    "    return Purity"
   ]
  },
  {
   "cell_type": "code",
   "execution_count": 119,
   "metadata": {},
   "outputs": [],
   "source": [
    "class KMeans:\n",
    "    \n",
    "    def __init__(self,clustersCount):\n",
    "        \n",
    "        self.clustersCount=clustersCount\n",
    "    \n",
    "    def fit(self,data):\n",
    "        \n",
    "        rows=data.shape[0]\n",
    "        cols=data.shape[1]\n",
    "        \n",
    "        means=np.mean(data,axis=0)\n",
    "        stds=np.mean(data,axis=0)\n",
    "        \n",
    "        newCenters=np.random.randn(self.clustersCount,cols)*stds+means\n",
    "        oldCenters=np.zeros(newCenters.shape)\n",
    "\n",
    "        distances=np.zeros((rows,self.clustersCount))\n",
    "\n",
    "        self.clusters=np.zeros(rows)\n",
    "\n",
    "        margin=LA.norm(newCenters-oldCenters)\n",
    "\n",
    "        while margin!=0:\n",
    "            \n",
    "            for i in range(self.clustersCount):\n",
    "                distances[:,i]=LA.norm(data-newCenters[i],axis=1)\n",
    "            \n",
    "            self.clusters=np.argmin(distances,axis=1)\n",
    "            oldCenters=deepcopy(newCenters)\n",
    "            \n",
    "            for i in range(self.clustersCount):\n",
    "                newCenters[i]=np.mean(data[self.clusters==i],axis=0)\n",
    "            margin=LA.norm(newCenters-oldCenters)"
   ]
  },
  {
   "cell_type": "markdown",
   "metadata": {},
   "source": [
    "## (a): Reduced Dimensions from 3-layer-auto-encoder (Linear Activations)"
   ]
  },
  {
   "cell_type": "code",
   "execution_count": 120,
   "metadata": {},
   "outputs": [
    {
     "name": "stdout",
     "output_type": "stream",
     "text": [
      "Contingency Matrix is: \n",
      "[[   19   920   818    25     0]\n",
      " [ 6791    26    11     0     0]\n",
      " [   70  1142   317    55     0]\n",
      " [  870 10749   122   117    10]\n",
      " [ 1364   527  1045     0     0]]\n",
      "Purity of Cluster:  0  : 51.627384960718295\n",
      "Purity of Cluster:  1  : 99.4581136496778\n",
      "Purity of Cluster:  2  : 72.0959595959596\n",
      "Purity of Cluster:  3  : 90.57128412537917\n",
      "Purity of Cluster:  4  : 46.45776566757493\n",
      "K-Means Purity is:  0.8387070965677255\n"
     ]
    }
   ],
   "source": [
    "KM=KMeans(5)\n",
    "KM.fit(ans1)\n",
    "KMPurity1=purity(KM.clusters)\n",
    "print(\"K-Means Purity is: \",KMPurity1)"
   ]
  },
  {
   "cell_type": "markdown",
   "metadata": {},
   "source": [
    "## (b): Reduced Dimensions from 3-layer-auto-encoder (Non-Linear Activations)"
   ]
  },
  {
   "cell_type": "code",
   "execution_count": 121,
   "metadata": {},
   "outputs": [
    {
     "name": "stdout",
     "output_type": "stream",
     "text": [
      "Contingency Matrix is: \n",
      "[[   0   16    1    0    0]\n",
      " [  10  107  818    6    0]\n",
      " [ 239 9717   31   62    0]\n",
      " [7501 2963  481  115   10]\n",
      " [1364  561  982   14    0]]\n",
      "Purity of Cluster:  0  : 94.11764705882354\n",
      "Purity of Cluster:  1  : 86.9287991498406\n",
      "Purity of Cluster:  2  : 96.69618867549009\n",
      "Purity of Cluster:  3  : 67.75971093044264\n",
      "Purity of Cluster:  4  : 46.69633687093461\n",
      "K-Means Purity is:  0.7767021361708937\n"
     ]
    }
   ],
   "source": [
    "KM=KMeans(5)\n",
    "KM.fit(ans2)\n",
    "KMPurity2=purity(KM.clusters)\n",
    "print(\"K-Means Purity is: \",KMPurity2)"
   ]
  },
  {
   "cell_type": "markdown",
   "metadata": {},
   "source": [
    "## Reduced Dimensions from Deep-auto-encoder (Non-Linear Activations)"
   ]
  },
  {
   "cell_type": "code",
   "execution_count": 122,
   "metadata": {},
   "outputs": [
    {
     "name": "stdout",
     "output_type": "stream",
     "text": [
      "Contingency Matrix is: \n",
      "[[ 198 2736  371   12    5]\n",
      " [ 362  247  801   65    0]\n",
      " [ 389 9812   99  109    5]\n",
      " [1364  516  994   10    0]\n",
      " [6801   53   48    1    0]]\n",
      "Purity of Cluster:  0  : 82.3600240818784\n",
      "Purity of Cluster:  1  : 54.30508474576271\n",
      "Purity of Cluster:  2  : 94.21932014595737\n",
      "Purity of Cluster:  3  : 47.295423023578365\n",
      "Purity of Cluster:  4  : 98.52238157322903\n",
      "K-Means Purity is:  0.8606288503080246\n"
     ]
    }
   ],
   "source": [
    "KM=KMeans(5)\n",
    "KM.fit(ans3)\n",
    "KMPurity3=purity(KM.clusters)\n",
    "print(\"K-Means Purity is: \",KMPurity3)"
   ]
  },
  {
   "cell_type": "markdown",
   "metadata": {},
   "source": [
    "# Part-3: Gaussian Mixture Model (GMM)"
   ]
  },
  {
   "cell_type": "markdown",
   "metadata": {},
   "source": [
    "## (a): Reduced Dimensions from 3-layer-auto-encoder (Linear Activations)"
   ]
  },
  {
   "cell_type": "code",
   "execution_count": 123,
   "metadata": {},
   "outputs": [],
   "source": [
    "GMM=GaussianMixture(n_components=5).fit(ans1)\n",
    "gmmlabel=GMM.predict(ans1)"
   ]
  },
  {
   "cell_type": "code",
   "execution_count": 124,
   "metadata": {},
   "outputs": [
    {
     "name": "stdout",
     "output_type": "stream",
     "text": [
      "Contingency Matrix is: \n",
      "[[6273    0    0    0    0]\n",
      " [ 538 9728  892   90    3]\n",
      " [1442 2678 1297   12    0]\n",
      " [ 861  950  123   95    7]\n",
      " [   0    8    1    0    0]]\n",
      "Purity of Cluster:  0  : 100.0\n",
      "Purity of Cluster:  1  : 86.46342547329127\n",
      "Purity of Cluster:  2  : 49.32768465647449\n",
      "Purity of Cluster:  3  : 46.66011787819254\n",
      "Purity of Cluster:  4  : 88.88888888888889\n",
      "GMM Purity is:  0.7855428434274742\n"
     ]
    }
   ],
   "source": [
    "GMMPurity1=purity(gmmlabel)\n",
    "print(\"GMM Purity is: \",GMMPurity1)"
   ]
  },
  {
   "cell_type": "markdown",
   "metadata": {},
   "source": [
    "## (b): Reduced Dimensions from 3-layer-auto-encoder (Non-Linear Activations)"
   ]
  },
  {
   "cell_type": "code",
   "execution_count": 125,
   "metadata": {},
   "outputs": [],
   "source": [
    "GMM=GaussianMixture(n_components=5).fit(ans2)\n",
    "gmmlabel=GMM.predict(ans2)"
   ]
  },
  {
   "cell_type": "code",
   "execution_count": 126,
   "metadata": {},
   "outputs": [
    {
     "name": "stdout",
     "output_type": "stream",
     "text": [
      "Contingency Matrix is: \n",
      "[[6070    0    0    0    0]\n",
      " [ 352  719  134   72    5]\n",
      " [   0 7137    0    0    0]\n",
      " [2238 4649 1383  102    3]\n",
      " [ 454  859  796   23    2]]\n",
      "Purity of Cluster:  0  : 100.0\n",
      "Purity of Cluster:  1  : 56.08424336973479\n",
      "Purity of Cluster:  2  : 100.0\n",
      "Purity of Cluster:  3  : 55.51044776119403\n",
      "Purity of Cluster:  4  : 40.25304592314902\n",
      "GMM Purity is:  0.777422193775502\n"
     ]
    }
   ],
   "source": [
    "GMMPurity2=purity(gmmlabel)\n",
    "print(\"GMM Purity is: \",GMMPurity2)"
   ]
  },
  {
   "cell_type": "markdown",
   "metadata": {},
   "source": [
    "## Reduced Dimensions from Deep-auto-encoder (Non-Linear Activations)"
   ]
  },
  {
   "cell_type": "code",
   "execution_count": 127,
   "metadata": {},
   "outputs": [],
   "source": [
    "GMM=GaussianMixture(n_components=5).fit(ans3)\n",
    "gmmlabel=GMM.predict(ans3)"
   ]
  },
  {
   "cell_type": "code",
   "execution_count": 128,
   "metadata": {},
   "outputs": [
    {
     "name": "stdout",
     "output_type": "stream",
     "text": [
      "Contingency Matrix is: \n",
      "[[ 1318 12728  1211   182    10]\n",
      " [ 6391     2     0     4     0]\n",
      " [    0     8     0     0     0]\n",
      " [    0     0     1     0     0]\n",
      " [ 1405   626  1101    11     0]]\n",
      "Purity of Cluster:  0  : 82.3872095281248\n",
      "Purity of Cluster:  1  : 99.90620603407848\n",
      "Purity of Cluster:  2  : 100.0\n",
      "Purity of Cluster:  3  : 100.0\n",
      "Purity of Cluster:  4  : 44.70251352211263\n",
      "GMM Purity is:  0.8213857108568685\n"
     ]
    }
   ],
   "source": [
    "GMMPurity3=purity(gmmlabel)\n",
    "print(\"GMM Purity is: \",GMMPurity3)"
   ]
  },
  {
   "cell_type": "markdown",
   "metadata": {},
   "source": [
    "# Part-4: Hierarchical Clustering"
   ]
  },
  {
   "cell_type": "markdown",
   "metadata": {},
   "source": [
    "## (a): Reduced Dimensions from 3-layer-auto-encoder (Linear Activations)"
   ]
  },
  {
   "cell_type": "code",
   "execution_count": 133,
   "metadata": {},
   "outputs": [],
   "source": [
    "HCluster=AgglomerativeClustering(n_clusters=5,affinity='euclidean',linkage='single')\n",
    "hLabels=HCluster.fit_predict(ans1)"
   ]
  },
  {
   "cell_type": "code",
   "execution_count": 135,
   "metadata": {},
   "outputs": [
    {
     "name": "stdout",
     "output_type": "stream",
     "text": [
      "Contingency Matrix is: \n",
      "[[    0     7     0     0     0]\n",
      " [ 9114 13354  2312   193    10]\n",
      " [    0     2     0     4     0]\n",
      " [    0     1     0     0     0]\n",
      " [    0     0     1     0     0]]\n",
      "Purity of Cluster:  0  : 100.0\n",
      "Purity of Cluster:  1  : 53.45234759636553\n",
      "Purity of Cluster:  2  : 66.66666666666667\n",
      "Purity of Cluster:  3  : 100.0\n",
      "Purity of Cluster:  4  : 100.0\n",
      "Hierarchical Purity is:  0.5347227778222258\n"
     ]
    }
   ],
   "source": [
    "HPurity1=purity(hLabels)\n",
    "print(\"Hierarchical Purity is: \",HPurity1)"
   ]
  },
  {
   "cell_type": "markdown",
   "metadata": {},
   "source": [
    "## (b): Reduced Dimensions from 3-layer-auto-encoder (Non-Linear Activations)"
   ]
  },
  {
   "cell_type": "code",
   "execution_count": 136,
   "metadata": {},
   "outputs": [],
   "source": [
    "HCluster=AgglomerativeClustering(n_clusters=5,affinity='euclidean',linkage='single')\n",
    "hLabels=HCluster.fit_predict(ans2)"
   ]
  },
  {
   "cell_type": "code",
   "execution_count": 137,
   "metadata": {},
   "outputs": [
    {
     "name": "stdout",
     "output_type": "stream",
     "text": [
      "Contingency Matrix is: \n",
      "[[    0     1     1     0     0]\n",
      " [ 9114 13360  2311   197    10]\n",
      " [    0     2     0     0     0]\n",
      " [    0     1     0     0     0]\n",
      " [    0     0     1     0     0]]\n",
      "Purity of Cluster:  0  : 50.0\n",
      "Purity of Cluster:  1  : 53.457106274007685\n",
      "Purity of Cluster:  2  : 100.0\n",
      "Purity of Cluster:  3  : 100.0\n",
      "Purity of Cluster:  4  : 100.0\n",
      "Hierarchical Purity is:  0.5346427714217138\n"
     ]
    }
   ],
   "source": [
    "HPurity2=purity(hLabels)\n",
    "print(\"Hierarchical Purity is: \",HPurity2)"
   ]
  },
  {
   "cell_type": "markdown",
   "metadata": {},
   "source": [
    "## Reduced Dimensions from Deep-auto-encoder (Non-Linear Activations)"
   ]
  },
  {
   "cell_type": "code",
   "execution_count": 138,
   "metadata": {},
   "outputs": [],
   "source": [
    "HCluster=AgglomerativeClustering(n_clusters=5,affinity='euclidean',linkage='single')\n",
    "hLabels=HCluster.fit_predict(ans3)"
   ]
  },
  {
   "cell_type": "code",
   "execution_count": 139,
   "metadata": {},
   "outputs": [
    {
     "name": "stdout",
     "output_type": "stream",
     "text": [
      "Contingency Matrix is: \n",
      "[[    0     3     0     0     0]\n",
      " [    0     4     0     0     0]\n",
      " [ 9114 13356  2312   197    10]\n",
      " [    0     1     0     0     0]\n",
      " [    0     0     1     0     0]]\n",
      "Purity of Cluster:  0  : 100.0\n",
      "Purity of Cluster:  1  : 100.0\n",
      "Purity of Cluster:  2  : 53.44751690743927\n",
      "Purity of Cluster:  3  : 100.0\n",
      "Purity of Cluster:  4  : 100.0\n",
      "Hierarchical Purity is:  0.5346427714217138\n"
     ]
    }
   ],
   "source": [
    "HPurity3=purity(hLabels)\n",
    "print(\"Hierarchical Purity is: \",HPurity3)"
   ]
  },
  {
   "cell_type": "markdown",
   "metadata": {},
   "source": [
    "# Part-5: Pie Chart"
   ]
  },
  {
   "cell_type": "code",
   "execution_count": 149,
   "metadata": {},
   "outputs": [],
   "source": [
    "def showPIE(KMPurity,GMMPurity,HPurity,title):\n",
    "    slices_hours=[KMPurity,GMMPurity,HPurity]\n",
    "    Algorithms=['K-means','GMM','Hierarchical']\n",
    "    colors=['red','orange','pink']\n",
    "    fig1,ax1=plt.subplots()\n",
    "    ax1.pie(slices_hours,colors=colors,labels=Algorithms,autopct='%1.1f%%',shadow=True,startangle=120)\n",
    "    ax1.axis('equal')\n",
    "    plt.title(title)\n",
    "    plt.show()"
   ]
  },
  {
   "cell_type": "code",
   "execution_count": 150,
   "metadata": {},
   "outputs": [
    {
     "data": {
      "image/png": "[encoded data removed]",
      "text/plain": [
       "<Figure size 432x288 with 1 Axes>"
      ]
     },
     "metadata": {},
     "output_type": "display_data"
    },
    {
     "data": {
      "image/png": "[encoded data removed]",
      "text/plain": [
       "<Figure size 432x288 with 1 Axes>"
      ]
     },
     "metadata": {},
     "output_type": "display_data"
    },
    {
     "data": {
      "image/png": "[encoded data removed]",
      "text/plain": [
       "<Figure size 432x288 with 1 Axes>"
      ]
     },
     "metadata": {},
     "output_type": "display_data"
    }
   ],
   "source": [
    "showPIE(KMPurity1,GMMPurity1,HPurity1,\"Linear Activations\")\n",
    "showPIE(KMPurity2,GMMPurity2,HPurity2,\"Non-Linear Activations\")\n",
    "showPIE(KMPurity3,GMMPurity3,HPurity3,\"Deep-Auto-Encoder\")"
   ]
  },
  {
   "cell_type": "code",
   "execution_count": null,
   "metadata": {},
   "outputs": [],
   "source": []
  }
 ],
 "metadata": {
  "kernelspec": {
   "display_name": "Python 3",
   "language": "python",
   "name": "python3"
  },
  "language_info": {
   "codemirror_mode": {
    "name": "ipython",
    "version": 3
   },
   "file_extension": ".py",
   "mimetype": "text/x-python",
   "name": "python",
   "nbconvert_exporter": "python",
   "pygments_lexer": "ipython3",
   "version": "3.6.7"
  }
 },
 "nbformat": 4,
 "nbformat_minor": 2
}
