{
 "cells": [
  {
   "cell_type": "code",
   "execution_count": 70,
   "metadata": {},
   "outputs": [],
   "source": [
    "import numpy as np\n",
    "import pandas as pd\n",
    "import math\n",
    "import matplotlib.pyplot as plt # library to plot graph"
   ]
  },
  {
   "cell_type": "code",
   "execution_count": 71,
   "metadata": {},
   "outputs": [],
   "source": [
    "dataSet=pd.read_csv(\"../input_data/train.csv\")"
   ]
  },
  {
   "cell_type": "code",
   "execution_count": 72,
   "metadata": {},
   "outputs": [],
   "source": [
    "def makeDict(temp):\n",
    "    a=np.array(temp)\n",
    "    unique, counts=np.unique(a,return_counts=True)\n",
    "    return dict(zip(unique,counts))"
   ]
  },
  {
   "cell_type": "code",
   "execution_count": 73,
   "metadata": {},
   "outputs": [],
   "source": [
    "def calcEntropy(q):\n",
    "    if q==0 or q==1:\n",
    "        return 0\n",
    "    return -(q*math.log2(q) + (1-q)*math.log2(1-q))"
   ]
  },
  {
   "cell_type": "code",
   "execution_count": 74,
   "metadata": {
    "scrolled": true
   },
   "outputs": [],
   "source": [
    "def classifyData(data):\n",
    "    for item in data:\n",
    "        temp=makeDict(data[item])\n",
    "        if(len(temp)>10):\n",
    "            x=len(temp)//10 + 1\n",
    "            listOfKeys=list(temp.keys())\n",
    "            newCol=[]\n",
    "            for row in data[item]:\n",
    "                ind=listOfKeys.index(row)\n",
    "                upperBorder=(ind//x + 1)*x\n",
    "                if(upperBorder>=len(temp)):\n",
    "                    upperBorder=-1\n",
    "                newCol.append(listOfKeys[upperBorder])\n",
    "            data[item]=newCol\n",
    "    return data"
   ]
  },
  {
   "cell_type": "code",
   "execution_count": 75,
   "metadata": {},
   "outputs": [],
   "source": [
    "def calcBestAttr(entropy,data):\n",
    "    iGains={}\n",
    "    for col in data:\n",
    "        if(col==\"left\"):\n",
    "            continue\n",
    "        uValCount=makeDict(data[col])\n",
    "        wAvg=0\n",
    "        for category in uValCount:\n",
    "            a=data[(data[col]==category) & (data['left']==1)]\n",
    "            q=len(a)/uValCount[category]\n",
    "            wAvg+=((uValCount[category]/len(data))*calcEntropy(q))\n",
    "        iGains[col]=entropy-wAvg\n",
    "    try:\n",
    "        maxCategory = max(iGains.keys(), key=(lambda k: iGains[k]))\n",
    "    except:\n",
    "        return None\n",
    "    return maxCategory"
   ]
  },
  {
   "cell_type": "code",
   "execution_count": 76,
   "metadata": {},
   "outputs": [],
   "source": [
    "def predict(model,root,sample):\n",
    "    key=list(root.keys())[0]\n",
    "    if(key=='value'):\n",
    "        return root[key]\n",
    "    try:\n",
    "        root=root[key]\n",
    "        if sample[key] in root.keys():\n",
    "            return predict(model,root[sample[key]],sample)\n",
    "        else:\n",
    "            for k in root.keys():\n",
    "                if(sample[key]<=k):\n",
    "                    return predict(model,root[k],sample)\n",
    "            return 0\n",
    "    except:\n",
    "        return 0"
   ]
  },
  {
   "cell_type": "code",
   "execution_count": 77,
   "metadata": {},
   "outputs": [],
   "source": [
    "def predictChars(data):\n",
    "    truePositive,falsePositive,trueNegative,falseNegative=0,0,0,0\n",
    "    for sample in data:\n",
    "        pred_label=predict(DTree,DTree,sample)\n",
    "        if(pred_label==sample['left']):\n",
    "            if(pred_label):\n",
    "                truePositive+=1\n",
    "            else:\n",
    "                trueNegative+=1\n",
    "        else:\n",
    "            if(pred_label):\n",
    "                falsePositive+=1\n",
    "            else:\n",
    "                falseNegative+=1\n",
    "    accuracy=(truePositive+trueNegative)*100/len(data)\n",
    "    return accuracy"
   ]
  },
  {
   "cell_type": "code",
   "execution_count": 78,
   "metadata": {},
   "outputs": [],
   "source": [
    "inputData=dataSet"
   ]
  },
  {
   "cell_type": "code",
   "execution_count": 79,
   "metadata": {},
   "outputs": [],
   "source": [
    "trainingData=inputData.sample(frac=0.8)\n",
    "validationData=inputData.drop(trainingData.index)\n",
    "trainingData=classifyData(trainingData)"
   ]
  },
  {
   "cell_type": "code",
   "execution_count": 80,
   "metadata": {},
   "outputs": [],
   "source": [
    "def makeTree(root,data,errorData):\n",
    "    a=len(data[data.left==1])\n",
    "    if(a==0 or a==len(data)):\n",
    "        root.update({'value':1 if a else 0})\n",
    "        return\n",
    "    q=a/len(data)\n",
    "    newNode=calcBestAttr(calcEntropy(q),data)\n",
    "    if(newNode is None):\n",
    "        b=len(data)-a\n",
    "        if(a>=b):\n",
    "            root.update({'value':1})\n",
    "        else:\n",
    "            root.update({'value':0})\n",
    "        return\n",
    "    root.update({newNode:{}})\n",
    "    global nodeCounter\n",
    "    nodeCounter+=1 # incrementing the nodecount to plot graph\n",
    "    acc=predictChars(errorData.to_dict('records')) # calculating the accuracy after each node creation\n",
    "    accuracies.append(acc)\n",
    "    nodes.append(nodeCounter)\n",
    "    root=root[newNode]\n",
    "    for category in np.unique(data[newNode]):\n",
    "        root.update({category:{}})\n",
    "        temp=data[data[newNode]==category]\n",
    "        makeTree(root[category],temp.drop(columns=[newNode]),errorData)"
   ]
  },
  {
   "cell_type": "code",
   "execution_count": 81,
   "metadata": {},
   "outputs": [
    {
     "data": {
      "image/png": "[encoded data removed]",
      "text/plain": [
       "<Figure size 432x288 with 1 Axes>"
      ]
     },
     "metadata": {
      "needs_background": "light"
     },
     "output_type": "display_data"
    }
   ],
   "source": [
    "# making a common graph for validation and training error vs number of nodes\n",
    "DTree={}\n",
    "nodeCounter=0\n",
    "accuracies=[]\n",
    "nodes=[]\n",
    "makeTree(DTree,trainingData,trainingData)\n",
    "error=[]\n",
    "for acc in accuracies:\n",
    "    error.append(1-acc)\n",
    "plt.plot(nodes,error,label=\"Training Error\")\n",
    "\n",
    "DTree={}\n",
    "nodeCounter=0\n",
    "accuracies=[]\n",
    "nodes=[]\n",
    "makeTree(DTree,trainingData,validationData)\n",
    "error=[]\n",
    "for acc in accuracies:\n",
    "    error.append(1-acc)\n",
    "plt.plot(nodes,error,label=\"Validation Error\")\n",
    "plt.xlabel('Number of Nodes')\n",
    "plt.ylabel('Error')\n",
    "plt.title('Error vs Number of Nodes')\n",
    "plt.grid(True)\n",
    "plt.legend()\n",
    "plt.show()"
   ]
  }
 ],
 "metadata": {
  "kernelspec": {
   "display_name": "Python 3",
   "language": "python",
   "name": "python3"
  },
  "language_info": {
   "codemirror_mode": {
    "name": "ipython",
    "version": 3
   },
   "file_extension": ".py",
   "mimetype": "text/x-python",
   "name": "python",
   "nbconvert_exporter": "python",
   "pygments_lexer": "ipython3",
   "version": "3.6.7"
  }
 },
 "nbformat": 4,
 "nbformat_minor": 2
}
