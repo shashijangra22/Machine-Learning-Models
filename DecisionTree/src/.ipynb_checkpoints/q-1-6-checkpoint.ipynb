{
 "cells": [
  {
   "cell_type": "markdown",
   "metadata": {},
   "source": [
    "# Techniques of Handling Missing"
   ]
  },
  {
   "cell_type": "markdown",
   "metadata": {},
   "source": [
    "- Ignore the entire sample: \n",
    "    one simple method is to ignore the sample row that contains the missing attribute value.\n",
    "    - pros\n",
    "        - easy to implement.\n",
    "    - cons\n",
    "        - High Variance might be harmful in case of missing data."
   ]
  },
  {
   "cell_type": "markdown",
   "metadata": {},
   "source": [
    "- Fill mean/median/mode:\n",
    "    Numerical data can be replaced by mean, median or mode.\n",
    "    - pros:\n",
    "        - Data loss can be prevented.\n",
    "        - Gives good result when data set is small.\n",
    "    - cons:\n",
    "        - Contributes bias and variance to model.\n",
    "        - reduction in performance."
   ]
  },
  {
   "cell_type": "markdown",
   "metadata": {},
   "source": [
    "- Consider a special value: we can fill all missing data with a special value like: \"unknown\" or \"random\"."
   ]
  },
  {
   "cell_type": "markdown",
   "metadata": {},
   "source": [
    "- Keep a strict path to the missing data, lets say traverse towards right if missing data found"
   ]
  },
  {
   "cell_type": "markdown",
   "metadata": {},
   "source": [
    "- Lazy decision tree : \n",
    "    - at the time of training it ignores the values which are missing and only consider the available data"
   ]
  },
  {
   "cell_type": "code",
   "execution_count": null,
   "metadata": {},
   "outputs": [],
   "source": []
  }
 ],
 "metadata": {
  "kernelspec": {
   "display_name": "Python 3",
   "language": "python",
   "name": "python3"
  },
  "language_info": {
   "codemirror_mode": {
    "name": "ipython",
    "version": 3
   },
   "file_extension": ".py",
   "mimetype": "text/x-python",
   "name": "python",
   "nbconvert_exporter": "python",
   "pygments_lexer": "ipython3",
   "version": "3.6.7"
  }
 },
 "nbformat": 4,
 "nbformat_minor": 2
}
