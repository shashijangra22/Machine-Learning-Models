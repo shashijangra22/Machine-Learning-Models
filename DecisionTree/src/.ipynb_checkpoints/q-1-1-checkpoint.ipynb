{
 "cells": [
  {
   "cell_type": "code",
   "execution_count": 17,
   "metadata": {},
   "outputs": [],
   "source": [
    "#importing libraries to be used\n",
    "import numpy as np\n",
    "import pandas as pd\n",
    "import math"
   ]
  },
  {
   "cell_type": "code",
   "execution_count": 18,
   "metadata": {},
   "outputs": [],
   "source": [
    "# reading the dataset for training the model\n",
    "dataSet=pd.read_csv(\"../input_data/train.csv\")"
   ]
  },
  {
   "cell_type": "code",
   "execution_count": 19,
   "metadata": {},
   "outputs": [],
   "source": [
    "# picking up categorical data\n",
    "cols=['salary','sales','promotion_last_5years','Work_accident','left']\n",
    "inputData=dataSet[cols]"
   ]
  },
  {
   "cell_type": "code",
   "execution_count": 20,
   "metadata": {},
   "outputs": [],
   "source": [
    "# splitting data into training(80%) and validation(20%) parts\n",
    "trainingData=inputData.sample(frac=0.8,random_state=200)\n",
    "validationData=inputData.drop(trainingData.index)"
   ]
  },
  {
   "cell_type": "code",
   "execution_count": 21,
   "metadata": {},
   "outputs": [],
   "source": [
    "# entropy calculation\n",
    "def calcEntropy(q):\n",
    "    if q==0 or q==1:\n",
    "        return 0\n",
    "    return -(q*math.log2(q) + (1-q)*math.log2(1-q))"
   ]
  },
  {
   "cell_type": "code",
   "execution_count": 22,
   "metadata": {},
   "outputs": [],
   "source": [
    "# helper function to get counts of unique keys in a column \n",
    "def makeDict(temp):\n",
    "    a=np.array(temp)\n",
    "    unique, counts=np.unique(a,return_counts=True)\n",
    "    return dict(zip(unique,counts))"
   ]
  },
  {
   "cell_type": "code",
   "execution_count": null,
   "metadata": {},
   "outputs": [],
   "source": []
  },
  {
   "cell_type": "code",
   "execution_count": 23,
   "metadata": {},
   "outputs": [],
   "source": [
    "# calculating best attribute on the basis of max information Gain\n",
    "def calcBestAttr(entropy,data):\n",
    "    iGains={}\n",
    "    for col in data:\n",
    "        if(col==\"left\"):\n",
    "            continue\n",
    "        uValCount=makeDict(data[col])\n",
    "        wAvg=0\n",
    "        for category in uValCount:\n",
    "            a=data[(data[col]==category) & (data['left']==1)]\n",
    "            q=len(a)/uValCount[category]\n",
    "            wAvg+=((uValCount[category]/len(data))*calcEntropy(q))\n",
    "        iGains[col]=entropy-wAvg\n",
    "    try:\n",
    "        maxCategory = max(iGains.keys(), key=(lambda k: iGains[k]))\n",
    "    except:\n",
    "        return None\n",
    "    return maxCategory"
   ]
  },
  {
   "cell_type": "code",
   "execution_count": 24,
   "metadata": {},
   "outputs": [],
   "source": [
    "# making the decision tree using id3 algorithm\n",
    "def makeTree(root,data):\n",
    "    a=len(data[data.left==1])\n",
    "    if(a==0 or a==len(data)): # if a pure data stage reaches\n",
    "        root.update({'value':1 if a else 0})\n",
    "        return\n",
    "    q=a/len(data)\n",
    "    newNode=calcBestAttr(calcEntropy(q),data) # calculate best attribute \n",
    "    if(newNode is None): # if not enought data left, mark the label based on purity \n",
    "        b=len(data)-a\n",
    "        if(a>=b):\n",
    "            root.update({'value':1})\n",
    "        else:\n",
    "            root.update({'value':0})\n",
    "        return\n",
    "    root.update({newNode:{}}) # creating new attribute node\n",
    "    root=root[newNode]\n",
    "    for category in np.unique(data[newNode]): # branching the tree further on unique values\n",
    "        root.update({category:{}})\n",
    "        temp=data[data[newNode]==category]\n",
    "        makeTree(root[category],temp.drop(columns=[newNode])) # recursively making the decision tree further"
   ]
  },
  {
   "cell_type": "code",
   "execution_count": 25,
   "metadata": {},
   "outputs": [],
   "source": [
    "# function to predict accuracy, precision, recall and f1score\n",
    "def predictChars(data):\n",
    "    truePositive,falsePositive,trueNegative,falseNegative=0,0,0,0\n",
    "    for sample in data: # calling predict function on every data sample\n",
    "        pred_label=predict(DTree,DTree,sample)\n",
    "        if(pred_label==sample['left']): # if prediction is correct\n",
    "            if(pred_label):\n",
    "                truePositive+=1\n",
    "            else:\n",
    "                trueNegative+=1\n",
    "        else: # if prediction is wrong\n",
    "            if(pred_label):\n",
    "                falsePositive+=1\n",
    "            else:\n",
    "                falseNegative+=1\n",
    "    accuracy=(truePositive+trueNegative)*100/len(data)\n",
    "    recall=truePositive/(truePositive+falseNegative)\n",
    "    precision=truePositive/(truePositive+falsePositive)\n",
    "    f1score=2/((1/precision)+(1/recall))\n",
    "    print(\"Accuracy is : {}\".format(accuracy))\n",
    "    print(\"Recall is : {}\".format(recall))\n",
    "    print(\"precision is : {}\".format(precision))\n",
    "    print(\"f1score is : {}\".format(f1score))"
   ]
  },
  {
   "cell_type": "code",
   "execution_count": 26,
   "metadata": {},
   "outputs": [],
   "source": [
    "def predict(model,root,sample): # traversing the Decision tree model on a testing sample \n",
    "    key=list(root.keys())[0]\n",
    "    if(key=='value'):\n",
    "        return root[key]\n",
    "    try:\n",
    "        root=root[key]\n",
    "        return predict(model,root[sample[key]],sample) # recusrive call if further traversal possible\n",
    "    except:\n",
    "        return 0"
   ]
  },
  {
   "cell_type": "code",
   "execution_count": 27,
   "metadata": {},
   "outputs": [],
   "source": [
    "DTree={} # initializing empty Decision Tree\n",
    "makeTree(DTree,trainingData) # calling the makeTree function"
   ]
  },
  {
   "cell_type": "code",
   "execution_count": 28,
   "metadata": {},
   "outputs": [
    {
     "name": "stdout",
     "output_type": "stream",
     "text": [
      "Accuracy is : 77.93594306049822\n",
      "Recall is : 0.004016064257028112\n",
      "precision is : 1.0\n",
      "f1score is : 0.007999999999999998\n"
     ]
    }
   ],
   "source": [
    "predictChars(validationData.to_dict('records')) # calling the predict chars function"
   ]
  },
  {
   "cell_type": "code",
   "execution_count": null,
   "metadata": {},
   "outputs": [],
   "source": []
  }
 ],
 "metadata": {
  "kernelspec": {
   "display_name": "Python 3",
   "language": "python",
   "name": "python3"
  },
  "language_info": {
   "codemirror_mode": {
    "name": "ipython",
    "version": 3
   },
   "file_extension": ".py",
   "mimetype": "text/x-python",
   "name": "python",
   "nbconvert_exporter": "python",
   "pygments_lexer": "ipython3",
   "version": "3.6.7"
  }
 },
 "nbformat": 4,
 "nbformat_minor": 2
}
