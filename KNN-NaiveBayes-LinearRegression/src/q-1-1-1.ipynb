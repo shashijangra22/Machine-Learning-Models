{
 "cells": [
  {
   "cell_type": "code",
   "execution_count": 1,
   "metadata": {},
   "outputs": [],
   "source": [
    "#importing libraries to be used\n",
    "import numpy as np\n",
    "import pandas as pd\n",
    "import math\n",
    "import sklearn"
   ]
  },
  {
   "cell_type": "code",
   "execution_count": 2,
   "metadata": {},
   "outputs": [],
   "source": [
    "# reading the dataset for training the model\n",
    "dataSet=pd.read_csv(\"../input_data/Robot1\",delimiter=\" \",header=None)"
   ]
  },
  {
   "cell_type": "code",
   "execution_count": 3,
   "metadata": {},
   "outputs": [],
   "source": [
    "cols=[x for x in range(2,8)]+[1]\n",
    "inputData=dataSet[cols]"
   ]
  },
  {
   "cell_type": "code",
   "execution_count": 4,
   "metadata": {},
   "outputs": [],
   "source": [
    "inputData.columns=[\"a1\",\"a2\",\"a3\",\"a4\",\"a5\",\"a6\",\"label\"]"
   ]
  },
  {
   "cell_type": "code",
   "execution_count": 5,
   "metadata": {},
   "outputs": [],
   "source": [
    "trainingData=inputData.sample(frac=0.8)\n",
    "validationData=inputData.drop(trainingData.index)"
   ]
  },
  {
   "cell_type": "code",
   "execution_count": 6,
   "metadata": {},
   "outputs": [],
   "source": [
    "def euclidDistance(a,b):\n",
    "    temp=0\n",
    "    for key in b:\n",
    "        if key is not 'label':\n",
    "            temp+=((b[key]-a[key])**2)\n",
    "    return math.sqrt(temp)\n",
    "\n",
    "distances=[]\n",
    "\n",
    "for vrow in validationData.to_dict('records'):\n",
    "    temp=[]\n",
    "    for trow in trainingData.to_dict('records'):\n",
    "        temp.append([euclidDistance(vrow,trow),trow['label']])\n",
    "    distances.append(sorted(temp))"
   ]
  },
  {
   "cell_type": "code",
   "execution_count": 7,
   "metadata": {},
   "outputs": [],
   "source": [
    "def KNNPredict(k):\n",
    "    predictions=[]\n",
    "    for i in range(len(validationData)):\n",
    "        ones=0\n",
    "        for item in distances[i][:k]:\n",
    "            ones+=item[1]\n",
    "        zeros=k-ones\n",
    "        if(ones>zeros):\n",
    "            ans=1\n",
    "        else:\n",
    "            ans=0\n",
    "        predictions.append(ans)\n",
    "\n",
    "    truePositive,trueNegative,falsePositive,falseNegative=0,0,0,0\n",
    "    labels=list(validationData['label'])\n",
    "    for i in range(len(labels)):\n",
    "        a=labels[i]\n",
    "        b=predictions[i]\n",
    "        if(a==b):\n",
    "            if(a):\n",
    "                truePositive+=1\n",
    "            else:\n",
    "                trueNegative+=1\n",
    "        else:\n",
    "            if(b):\n",
    "                falsePositive+=1\n",
    "            else:\n",
    "                falseNegative+=1\n",
    "    accuracy=(truePositive+trueNegative)/(len(validationData))\n",
    "    return accuracy*100"
   ]
  },
  {
   "cell_type": "code",
   "execution_count": 15,
   "metadata": {},
   "outputs": [
    {
     "name": "stdout",
     "output_type": "stream",
     "text": [
      "Accuracy on k:  1 :  80.0 %\n",
      "Accuracy on k:  3 :  80.0 %\n",
      "Accuracy on k:  5 :  88.0 %\n",
      "Accuracy on k:  7 :  92.0 %\n"
     ]
    }
   ],
   "source": [
    "for k in range(1,int(math.sqrt(len(trainingData))),2):\n",
    "    print(\"Accuracy on k: \",k,\": \", KNNPredict(k),\"%\")"
   ]
  },
  {
   "cell_type": "code",
   "execution_count": 12,
   "metadata": {},
   "outputs": [
    {
     "name": "stdout",
     "output_type": "stream",
     "text": [
      "[[11  2]\n",
      " [ 0 12]]\n",
      "              precision    recall  f1-score   support\n",
      "\n",
      "           0       1.00      0.85      0.92        13\n",
      "           1       0.86      1.00      0.92        12\n",
      "\n",
      "   micro avg       0.92      0.92      0.92        25\n",
      "   macro avg       0.93      0.92      0.92        25\n",
      "weighted avg       0.93      0.92      0.92        25\n",
      "\n",
      "Accuracy is :  0.92\n"
     ]
    }
   ],
   "source": [
    "# SK learn results\n",
    "y = inputData['label']\n",
    "X = inputData.drop(columns=['label'])\n",
    "# from sklearn.model_selection import train_test_split  \n",
    "# X_train, X_test, y_train, y_test = train_test_split(X, y, test_size=0.2) \n",
    "from sklearn.neighbors import KNeighborsClassifier  \n",
    "classifier = KNeighborsClassifier(n_neighbors=7)  \n",
    "classifier.fit(trainingData.drop(columns=['label']), trainingData['label']) \n",
    "y_pred = classifier.predict(validationData.drop(columns=['label']))\n",
    "from sklearn.metrics import classification_report, confusion_matrix, accuracy_score\n",
    "print(confusion_matrix(validationData['label'], y_pred))  \n",
    "print(classification_report(validationData['label'], y_pred)) \n",
    "print(\"Accuracy is : \",accuracy_score(validationData['label'], y_pred))"
   ]
  },
  {
   "cell_type": "code",
   "execution_count": null,
   "metadata": {},
   "outputs": [],
   "source": []
  },
  {
   "cell_type": "code",
   "execution_count": null,
   "metadata": {},
   "outputs": [],
   "source": []
  }
 ],
 "metadata": {
  "kernelspec": {
   "display_name": "Python 3",
   "language": "python",
   "name": "python3"
  },
  "language_info": {
   "codemirror_mode": {
    "name": "ipython",
    "version": 3
   },
   "file_extension": ".py",
   "mimetype": "text/x-python",
   "name": "python",
   "nbconvert_exporter": "python",
   "pygments_lexer": "ipython3",
   "version": "3.6.7"
  }
 },
 "nbformat": 4,
 "nbformat_minor": 2
}
