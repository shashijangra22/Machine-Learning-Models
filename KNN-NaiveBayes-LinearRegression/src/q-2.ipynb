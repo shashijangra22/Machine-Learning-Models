{
 "cells": [
  {
   "cell_type": "code",
   "execution_count": 45,
   "metadata": {},
   "outputs": [],
   "source": [
    "#importing libraries to be used\n",
    "import numpy as np\n",
    "import pandas as pd\n",
    "import math\n",
    "import random"
   ]
  },
  {
   "cell_type": "code",
   "execution_count": 46,
   "metadata": {},
   "outputs": [],
   "source": [
    "# reading the dataset for training the model\n",
    "attrList = ['id','age','exp','income','zip','familySize','avgMonExp','education','mortgage','label','securities','certDeposit','IT_Banking','creditCard']\n",
    "dataSet=pd.read_csv(\"./input_data/loan.csv\",names=attrList)\n",
    "inputData=dataSet.drop(\"id\",axis=1)\n",
    "\n",
    "numCols = ['age','exp','income','avgMonExp','education','mortgage']\n",
    "catCols = ['familySize','securities','certDeposit','IT_Banking','creditCard']"
   ]
  },
  {
   "cell_type": "code",
   "execution_count": 47,
   "metadata": {},
   "outputs": [],
   "source": [
    "trainingData=inputData.sample(frac=0.8)\n",
    "validationData=inputData.drop(trainingData.index)"
   ]
  },
  {
   "cell_type": "code",
   "execution_count": 48,
   "metadata": {},
   "outputs": [],
   "source": [
    "def calcProb(x,mean,std):\n",
    "    exp = math.exp(-(math.pow(x-mean,2)/(2*math.pow(std,2))))\n",
    "    return (1 / (math.sqrt(2*math.pi) * std)) * exp"
   ]
  },
  {
   "cell_type": "code",
   "execution_count": 49,
   "metadata": {},
   "outputs": [],
   "source": [
    "catInfo={}\n",
    "for col in catCols:\n",
    "    catInfo[col]={}\n",
    "    uVals=trainingData[col].unique()\n",
    "    for x in uVals:\n",
    "        catInfo[col][x]={}\n",
    "        \n",
    "        temp=trainingData[trainingData[col]==x]\n",
    "        \n",
    "        positive=temp[temp[\"label\"]==1][col].count()/trainingData[trainingData[\"label\"]==1][col].count()\n",
    "        catInfo[col][x]['yes']=positive\n",
    "        \n",
    "        negative=temp[temp[\"label\"]==0][col].count()/trainingData[trainingData[\"label\"]==0][col].count()\n",
    "        catInfo[col][x][\"no\"]=negative"
   ]
  },
  {
   "cell_type": "code",
   "execution_count": 50,
   "metadata": {},
   "outputs": [],
   "source": [
    "numericMean={}\n",
    "numericDev={}\n",
    "for i in numCols:\n",
    "    numericMean[i]={}\n",
    "    numericDev[i]={}\n",
    "    \n",
    "    positive=trainingData[trainingData['label']==1][i].mean()\n",
    "    numericMean[i]['yes']=positive\n",
    "    \n",
    "    negative=trainingData[trainingData['label']==0][i].mean()\n",
    "    numericMean[i]['no']=negative\n",
    "    \n",
    "    devPositive=trainingData[trainingData['label']==1][i].std()\n",
    "    numericDev[i]['yes']=devPositive\n",
    "    \n",
    "    devNegative=trainingData[trainingData['label']==0][i].std()\n",
    "    numericDev[i]['no']=devNegative;"
   ]
  },
  {
   "cell_type": "code",
   "execution_count": 51,
   "metadata": {},
   "outputs": [
    {
     "name": "stdout",
     "output_type": "stream",
     "text": [
      "accuracy:  0.9144444444444444\n"
     ]
    }
   ],
   "source": [
    "POS=len(trainingData[trainingData['label']==1])/len(trainingData)\n",
    "NEG=1-POS\n",
    "predictions=[]\n",
    "for index,data in validationData.iterrows():\n",
    "    pos=1\n",
    "    nos=1\n",
    "    for cat in catCols:\n",
    "        pos=pos*catInfo[cat][data[cat]]['yes']\n",
    "        nos=nos*catInfo[cat][data[cat]]['no']\n",
    "    for num in numCols:\n",
    "        \n",
    "        posProb=calcProb(data[num],numericMean[num]['yes'],numericDev[num]['yes'])\n",
    "        pos=pos*posProb\n",
    "        \n",
    "        negProb=calcProb(data[num],numericMean[num]['no'],numericDev[num]['no'])\n",
    "        nos=nos*negProb\n",
    "    pos=pos*POS\n",
    "    nos=nos*NEG\n",
    "    if pos>nos:\n",
    "        predictions.append(1)\n",
    "    else:\n",
    "        predictions.append(0)\n",
    "\n",
    "given=validationData['label'].tolist()\n",
    "c=0\n",
    "for i in range(len(given)):\n",
    "    if(given[i]==predictions[i]):\n",
    "        c+=1\n",
    "print(\"accuracy: \",c/len(given))"
   ]
  },
  {
   "cell_type": "code",
   "execution_count": null,
   "metadata": {},
   "outputs": [],
   "source": []
  }
 ],
 "metadata": {
  "kernelspec": {
   "display_name": "Python 3",
   "language": "python",
   "name": "python3"
  },
  "language_info": {
   "codemirror_mode": {
    "name": "ipython",
    "version": 3
   },
   "file_extension": ".py",
   "mimetype": "text/x-python",
   "name": "python",
   "nbconvert_exporter": "python",
   "pygments_lexer": "ipython3",
   "version": "3.6.7"
  }
 },
 "nbformat": 4,
 "nbformat_minor": 2
}
