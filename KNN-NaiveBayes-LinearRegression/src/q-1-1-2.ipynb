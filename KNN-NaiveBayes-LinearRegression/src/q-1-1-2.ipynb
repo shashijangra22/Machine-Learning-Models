{
 "cells": [
  {
   "cell_type": "code",
   "execution_count": 22,
   "metadata": {},
   "outputs": [],
   "source": [
    "#importing libraries to be used\n",
    "import numpy as np\n",
    "import pandas as pd\n",
    "import math\n",
    "import sklearn\n",
    "import matplotlib.pyplot as plt"
   ]
  },
  {
   "cell_type": "code",
   "execution_count": 23,
   "metadata": {},
   "outputs": [],
   "source": [
    "# reading the dataset for training the model\n",
    "dataSet=pd.read_csv(\"../input_data/Robot1\",delimiter=\" \",header=None)"
   ]
  },
  {
   "cell_type": "code",
   "execution_count": 24,
   "metadata": {},
   "outputs": [],
   "source": [
    "cols=[x for x in range(2,8)]+[1]\n",
    "inputData=dataSet[cols]"
   ]
  },
  {
   "cell_type": "code",
   "execution_count": 25,
   "metadata": {},
   "outputs": [],
   "source": [
    "inputData.columns=[\"a1\",\"a2\",\"a3\",\"a4\",\"a5\",\"a6\",\"label\"]"
   ]
  },
  {
   "cell_type": "code",
   "execution_count": 26,
   "metadata": {},
   "outputs": [],
   "source": [
    "trainingData=inputData.sample(frac=0.8)\n",
    "validationData=inputData.drop(trainingData.index)"
   ]
  },
  {
   "cell_type": "code",
   "execution_count": 27,
   "metadata": {},
   "outputs": [],
   "source": [
    "def euclidDistance(a,b):\n",
    "    temp=0\n",
    "    for key in b:\n",
    "        if key is not 'label':\n",
    "            temp+=((b[key]-a[key])**2)\n",
    "    return math.sqrt(temp)\n",
    "\n",
    "distances=[]\n",
    "\n",
    "for vrow in validationData.to_dict('records'):\n",
    "    temp=[]\n",
    "    for trow in trainingData.to_dict('records'):\n",
    "        temp.append([euclidDistance(vrow,trow),trow['label']])\n",
    "    distances.append(sorted(temp))"
   ]
  },
  {
   "cell_type": "code",
   "execution_count": 28,
   "metadata": {},
   "outputs": [],
   "source": [
    "def KNNPredict(k):\n",
    "    predictions=[]\n",
    "    for i in range(len(validationData)):\n",
    "        ones=0\n",
    "        for item in distances[i][:k]:\n",
    "            ones+=item[1]\n",
    "        zeros=k-ones\n",
    "        if(ones>zeros):\n",
    "            ans=1\n",
    "        else:\n",
    "            ans=0\n",
    "        predictions.append(ans)\n",
    "\n",
    "    truePositive,trueNegative,falsePositive,falseNegative=0,0,0,0\n",
    "    labels=list(validationData['label'])\n",
    "    for i in range(len(labels)):\n",
    "        a=labels[i]\n",
    "        b=predictions[i]\n",
    "        if(a==b):\n",
    "            if(a):\n",
    "                truePositive+=1\n",
    "            else:\n",
    "                trueNegative+=1\n",
    "        else:\n",
    "            if(b):\n",
    "                falsePositive+=1\n",
    "            else:\n",
    "                falseNegative+=1\n",
    "    accuracy=(truePositive+trueNegative)/(len(validationData))\n",
    "    return accuracy*100"
   ]
  },
  {
   "cell_type": "code",
   "execution_count": 29,
   "metadata": {},
   "outputs": [
    {
     "data": {
      "image/png": "[encoded data removed]",
      "text/plain": [
       "<Figure size 432x288 with 1 Axes>"
      ]
     },
     "metadata": {
      "needs_background": "light"
     },
     "output_type": "display_data"
    }
   ],
   "source": [
    "# for k in range(1,int(math.sqrt(len(trainingData))),2):\n",
    "#     print(\"Accuracy on k: \",k,\": \", KNNPredict(k),\"%\")\n",
    "\n",
    "accuracies=[KNNPredict(k) for k in range(1,int(math.sqrt(len(trainingData))))]\n",
    "plt.plot(range(1,int(math.sqrt(len(trainingData)))), accuracies)\n",
    "plt.title('Acc vs K Value')\n",
    "plt.xlabel('K Value')\n",
    "plt.grid(True)\n",
    "plt.ylabel('Accuracy')\n",
    "plt.show()"
   ]
  }
 ],
 "metadata": {
  "kernelspec": {
   "display_name": "Python 3",
   "language": "python",
   "name": "python3"
  },
  "language_info": {
   "codemirror_mode": {
    "name": "ipython",
    "version": 3
   },
   "file_extension": ".py",
   "mimetype": "text/x-python",
   "name": "python",
   "nbconvert_exporter": "python",
   "pygments_lexer": "ipython3",
   "version": "3.6.7"
  }
 },
 "nbformat": 4,
 "nbformat_minor": 2
}
