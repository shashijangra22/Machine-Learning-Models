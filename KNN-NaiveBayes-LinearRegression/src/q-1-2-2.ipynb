{
 "cells": [
  {
   "cell_type": "code",
   "execution_count": 18,
   "metadata": {},
   "outputs": [],
   "source": [
    "#importing libraries to be used\n",
    "import numpy as np\n",
    "import pandas as pd\n",
    "import math\n",
    "import sklearn\n",
    "import matplotlib.pyplot as plt"
   ]
  },
  {
   "cell_type": "code",
   "execution_count": 19,
   "metadata": {},
   "outputs": [],
   "source": [
    "# reading the dataset for training the model\n",
    "dataSet=pd.read_csv(\"../input_data/Iris.csv\",delimiter=\",\",header=None)"
   ]
  },
  {
   "cell_type": "code",
   "execution_count": 20,
   "metadata": {},
   "outputs": [],
   "source": [
    "cols=[x for x in range(5)]\n",
    "inputData=dataSet[cols]"
   ]
  },
  {
   "cell_type": "code",
   "execution_count": 21,
   "metadata": {},
   "outputs": [],
   "source": [
    "inputData.columns=[\"a1\",\"a2\",\"a3\",\"a4\",\"label\"]"
   ]
  },
  {
   "cell_type": "code",
   "execution_count": 22,
   "metadata": {},
   "outputs": [],
   "source": [
    "trainingData=inputData.sample(frac=0.8)\n",
    "validationData=inputData.drop(trainingData.index)"
   ]
  },
  {
   "cell_type": "code",
   "execution_count": 23,
   "metadata": {},
   "outputs": [],
   "source": [
    "def euclidDistance(a,b):\n",
    "    temp=0\n",
    "    for key in b:\n",
    "        if key is not 'label':\n",
    "            temp+=((b[key]-a[key])**2)\n",
    "    return math.sqrt(temp)\n",
    "\n",
    "distances=[]\n",
    "\n",
    "for vrow in validationData.to_dict('records'):\n",
    "    temp=[]\n",
    "    for trow in trainingData.to_dict('records'):\n",
    "        temp.append([euclidDistance(vrow,trow),trow['label']])\n",
    "    distances.append(sorted(temp))"
   ]
  },
  {
   "cell_type": "code",
   "execution_count": 24,
   "metadata": {},
   "outputs": [],
   "source": [
    "def KNNPredict(k):\n",
    "    predictions=[]\n",
    "    for i in range(len(validationData)):\n",
    "        kLabels=[item[1] for item in distances[i][:k]]\n",
    "        uVals,counts=np.unique(kLabels,return_counts=True)\n",
    "        uValCount=dict(zip(uVals,counts))\n",
    "        predLabel = max(uValCount.keys(), key=(lambda k: uValCount[k]))\n",
    "        predictions.append(predLabel)\n",
    "    labels=list(validationData['label'])\n",
    "    truths,falses=0,0\n",
    "    for i in range(len(labels)):\n",
    "        a=labels[i]\n",
    "        b=predictions[i]\n",
    "        if(a==b):\n",
    "            truths+=1\n",
    "        else:\n",
    "            falses+=1\n",
    "    accuracy=(truths)/(len(validationData))\n",
    "    return accuracy*100"
   ]
  },
  {
   "cell_type": "code",
   "execution_count": 25,
   "metadata": {},
   "outputs": [
    {
     "data": {
      "image/png": "[encoded data removed]",
      "text/plain": [
       "<Figure size 432x288 with 1 Axes>"
      ]
     },
     "metadata": {
      "needs_background": "light"
     },
     "output_type": "display_data"
    }
   ],
   "source": [
    "# for k in range(1,int(math.sqrt(len(trainingData))),2):\n",
    "#     print(\"Accuracy on k: \",k,\": \", KNNPredict(k),\"%\")\n",
    "\n",
    "accuracies=[KNNPredict(k) for k in range(1,int(math.sqrt(len(trainingData))))]\n",
    "plt.plot(range(1,int(math.sqrt(len(trainingData)))), accuracies)\n",
    "plt.title('Acc vs K Value')\n",
    "plt.xlabel('K Value')\n",
    "plt.grid(True)\n",
    "plt.ylabel('Accuracy')\n",
    "plt.show()"
   ]
  }
 ],
 "metadata": {
  "kernelspec": {
   "display_name": "Python 3",
   "language": "python",
   "name": "python3"
  },
  "language_info": {
   "codemirror_mode": {
    "name": "ipython",
    "version": 3
   },
   "file_extension": ".py",
   "mimetype": "text/x-python",
   "name": "python",
   "nbconvert_exporter": "python",
   "pygments_lexer": "ipython3",
   "version": "3.6.7"
  }
 },
 "nbformat": 4,
 "nbformat_minor": 2
}
