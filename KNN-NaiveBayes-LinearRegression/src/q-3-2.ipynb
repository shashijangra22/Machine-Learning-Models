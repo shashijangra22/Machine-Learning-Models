{
 "cells": [
  {
   "cell_type": "code",
   "execution_count": 5,
   "metadata": {},
   "outputs": [],
   "source": [
    "import numpy as np\n",
    "import pandas as pd\n",
    "import random\n",
    "\n",
    "dataSet = pd.read_csv(\"../input_data/data.csv\")\n",
    "\n",
    "trainingData=dataSet.sample(frac=0.8,random_state=200)\n",
    "validationData=dataSet.drop(trainingData.index)"
   ]
  },
  {
   "cell_type": "code",
   "execution_count": 6,
   "metadata": {},
   "outputs": [],
   "source": [
    "def MSE(y,y1):\n",
    "    ans=0\n",
    "    for i in range(len(y)):\n",
    "        A=(y[i]-y1[i][0])**2\n",
    "        ans+=A\n",
    "    return ans/len(y)\n",
    "\n",
    "def MAE(y,y1):\n",
    "    ans=0\n",
    "    for i in range(len(y)):\n",
    "        ans+=abs(y[i]-y1[i])\n",
    "    return ans/len(y);\n",
    "\n",
    "def MAP(y,y1):\n",
    "    ans=0\n",
    "    for i in range(len(y)):\n",
    "        A=y[i]-y1[i]\n",
    "        A/=y[i]\n",
    "        ans+=A\n",
    "    return ans*100/len(y)"
   ]
  },
  {
   "cell_type": "code",
   "execution_count": 7,
   "metadata": {},
   "outputs": [
    {
     "name": "stdout",
     "output_type": "stream",
     "text": [
      "Mean Square Error:  0.0033988304912097177\n",
      "Mean Absolute Error:  [0.04338319]\n",
      "Mean Absolute % Error :  [0.18177783]\n"
     ]
    }
   ],
   "source": [
    "temp=[1 for x in range(len(trainingData))]\n",
    "trainingData.insert(0,'temp',temp)\n",
    "\n",
    "temp=[1 for x in range(len(validationData))]\n",
    "validationData.insert(0,'temp',temp)\n",
    "\n",
    "y=trainingData.pop('Chance of Admit ')\n",
    "\n",
    "trainingData.pop('Serial No.')\n",
    "x=trainingData\n",
    "\n",
    "y = [y]\n",
    "y=np.array(y)\n",
    "x=x.values\n",
    "y=y.transpose()\n",
    "\n",
    "xt=x.transpose()\n",
    "x_xt=np.matmul(xt,x)\n",
    "x_xt_inv=np.linalg.inv(x_xt)\n",
    "temp=np.matmul(x_xt_inv,xt)\n",
    "B=np.matmul(temp,y)\n",
    "\n",
    "test_y=validationData.pop('Chance of Admit ')\n",
    "test_x=validationData\n",
    "\n",
    "validationData.pop('Serial No.')\n",
    "test_x=validationData\n",
    "\n",
    "test_x=test_x.values\n",
    "\n",
    "predict = np.matmul(test_x,B)\n",
    "\n",
    "actual_y=test_y.tolist()\n",
    "predicted_y=predict\n",
    "\n",
    "print (\"Mean Square Error: \", MSE(actual_y,predicted_y))\n",
    "\n",
    "print (\"Mean Absolute Error: \", MAE(actual_y,predicted_y))\n",
    "\n",
    "print (\"Mean Absolute % Error : \", MAP(actual_y,predicted_y))"
   ]
  },
  {
   "cell_type": "code",
   "execution_count": null,
   "metadata": {},
   "outputs": [],
   "source": []
  }
 ],
 "metadata": {
  "kernelspec": {
   "display_name": "Python 3",
   "language": "python",
   "name": "python3"
  },
  "language_info": {
   "codemirror_mode": {
    "name": "ipython",
    "version": 3
   },
   "file_extension": ".py",
   "mimetype": "text/x-python",
   "name": "python",
   "nbconvert_exporter": "python",
   "pygments_lexer": "ipython3",
   "version": "3.6.7"
  }
 },
 "nbformat": 4,
 "nbformat_minor": 2
}
